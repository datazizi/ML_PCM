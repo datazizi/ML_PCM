{
 "cells": [
  {
   "cell_type": "code",
   "execution_count": 2,
   "id": "86872269",
   "metadata": {},
   "outputs": [
    {
     "data": {
      "text/html": [
       "<div>\n",
       "<style scoped>\n",
       "    .dataframe tbody tr th:only-of-type {\n",
       "        vertical-align: middle;\n",
       "    }\n",
       "\n",
       "    .dataframe tbody tr th {\n",
       "        vertical-align: top;\n",
       "    }\n",
       "\n",
       "    .dataframe thead th {\n",
       "        text-align: right;\n",
       "    }\n",
       "</style>\n",
       "<table border=\"1\" class=\"dataframe\">\n",
       "  <thead>\n",
       "    <tr style=\"text-align: right;\">\n",
       "      <th></th>\n",
       "      <th>ChEMBL ID</th>\n",
       "      <th>Smiles</th>\n",
       "      <th>Activity_Value</th>\n",
       "      <th>bioactivity_class</th>\n",
       "    </tr>\n",
       "  </thead>\n",
       "  <tbody>\n",
       "    <tr>\n",
       "      <th>0</th>\n",
       "      <td>CHEMBL567175</td>\n",
       "      <td>Oc1ccc2c3c1O[C@@H]1[C@@]43CCN([C@H](C2)[C@]4(O...</td>\n",
       "      <td>0.1</td>\n",
       "      <td>active</td>\n",
       "    </tr>\n",
       "    <tr>\n",
       "      <th>1</th>\n",
       "      <td>CHEMBL2113666</td>\n",
       "      <td>CN1CC[C@]23c4c5cccc4O[C@H]2C(=O)CC[C@@]3(NC(=O...</td>\n",
       "      <td>0.1</td>\n",
       "      <td>active</td>\n",
       "    </tr>\n",
       "    <tr>\n",
       "      <th>2</th>\n",
       "      <td>CHEMBL1649941</td>\n",
       "      <td>CCCC[C@@H](NC(=O)[C@@H](N)Cc1c(C)cc(O)cc1C)C(=...</td>\n",
       "      <td>0.1</td>\n",
       "      <td>active</td>\n",
       "    </tr>\n",
       "    <tr>\n",
       "      <th>3</th>\n",
       "      <td>CHEMBL334715</td>\n",
       "      <td>N=C(N)NCCC[C@@H](NC(=O)c1cccc2c3c([nH]c12)[C@@...</td>\n",
       "      <td>0.1</td>\n",
       "      <td>active</td>\n",
       "    </tr>\n",
       "    <tr>\n",
       "      <th>4</th>\n",
       "      <td>CHEMBL3785854</td>\n",
       "      <td>Oc1ccc2c(c1)[C@]13CCN(CC4CC4)[C@@H](C2)[C@]1(O...</td>\n",
       "      <td>0.1</td>\n",
       "      <td>active</td>\n",
       "    </tr>\n",
       "    <tr>\n",
       "      <th>...</th>\n",
       "      <td>...</td>\n",
       "      <td>...</td>\n",
       "      <td>...</td>\n",
       "      <td>...</td>\n",
       "    </tr>\n",
       "    <tr>\n",
       "      <th>3570</th>\n",
       "      <td>CHEMBL3698762</td>\n",
       "      <td>O=c1c(NC(CO)CO)nc2ccccc2n1C1CCN(C2CCCCCCC2)CC1</td>\n",
       "      <td>86219.0</td>\n",
       "      <td>inactive</td>\n",
       "    </tr>\n",
       "    <tr>\n",
       "      <th>3571</th>\n",
       "      <td>CHEMBL1076554</td>\n",
       "      <td>Cc1cccc(O)c1C(=O)C1=CCCN2CCC[C@@H]12</td>\n",
       "      <td>94000.0</td>\n",
       "      <td>inactive</td>\n",
       "    </tr>\n",
       "    <tr>\n",
       "      <th>3572</th>\n",
       "      <td>CHEMBL3695269</td>\n",
       "      <td>NC(=O)[C@H](CO)Nc1nc2ccccc2n(C2CCN(C3CCCCCCC3)...</td>\n",
       "      <td>96003.0</td>\n",
       "      <td>inactive</td>\n",
       "    </tr>\n",
       "    <tr>\n",
       "      <th>3573</th>\n",
       "      <td>CHEMBL233535</td>\n",
       "      <td>NCc1ccccc1C1(O)CCN(CC2CCCCCC2)CC1</td>\n",
       "      <td>99505.0</td>\n",
       "      <td>inactive</td>\n",
       "    </tr>\n",
       "    <tr>\n",
       "      <th>3574</th>\n",
       "      <td>CHEMBL241272</td>\n",
       "      <td>O=C1NCN(c2ccccc2)C12CCN(C(c1ccccc1Cl)c1ccccc1C...</td>\n",
       "      <td>150385.0</td>\n",
       "      <td>inactive</td>\n",
       "    </tr>\n",
       "  </tbody>\n",
       "</table>\n",
       "<p>3575 rows × 4 columns</p>\n",
       "</div>"
      ],
      "text/plain": [
       "          ChEMBL ID                                             Smiles  \\\n",
       "0      CHEMBL567175  Oc1ccc2c3c1O[C@@H]1[C@@]43CCN([C@H](C2)[C@]4(O...   \n",
       "1     CHEMBL2113666  CN1CC[C@]23c4c5cccc4O[C@H]2C(=O)CC[C@@]3(NC(=O...   \n",
       "2     CHEMBL1649941  CCCC[C@@H](NC(=O)[C@@H](N)Cc1c(C)cc(O)cc1C)C(=...   \n",
       "3      CHEMBL334715  N=C(N)NCCC[C@@H](NC(=O)c1cccc2c3c([nH]c12)[C@@...   \n",
       "4     CHEMBL3785854  Oc1ccc2c(c1)[C@]13CCN(CC4CC4)[C@@H](C2)[C@]1(O...   \n",
       "...             ...                                                ...   \n",
       "3570  CHEMBL3698762     O=c1c(NC(CO)CO)nc2ccccc2n1C1CCN(C2CCCCCCC2)CC1   \n",
       "3571  CHEMBL1076554               Cc1cccc(O)c1C(=O)C1=CCCN2CCC[C@@H]12   \n",
       "3572  CHEMBL3695269  NC(=O)[C@H](CO)Nc1nc2ccccc2n(C2CCN(C3CCCCCCC3)...   \n",
       "3573   CHEMBL233535                  NCc1ccccc1C1(O)CCN(CC2CCCCCC2)CC1   \n",
       "3574   CHEMBL241272  O=C1NCN(c2ccccc2)C12CCN(C(c1ccccc1Cl)c1ccccc1C...   \n",
       "\n",
       "      Activity_Value bioactivity_class  \n",
       "0                0.1            active  \n",
       "1                0.1            active  \n",
       "2                0.1            active  \n",
       "3                0.1            active  \n",
       "4                0.1            active  \n",
       "...              ...               ...  \n",
       "3570         86219.0          inactive  \n",
       "3571         94000.0          inactive  \n",
       "3572         96003.0          inactive  \n",
       "3573         99505.0          inactive  \n",
       "3574        150385.0          inactive  \n",
       "\n",
       "[3575 rows x 4 columns]"
      ]
     },
     "execution_count": 2,
     "metadata": {},
     "output_type": "execute_result"
    }
   ],
   "source": [
    "import pandas as pd\n",
    "import numpy as np\n",
    "\n",
    "df = pd.read_csv('delta_Ki_remove_duplicate_chembl_remove_none_3_class_new_wo_none.csv')\n",
    "df"
   ]
  },
  {
   "cell_type": "code",
   "execution_count": 24,
   "id": "5b1792ba",
   "metadata": {},
   "outputs": [],
   "source": [
    "import numpy as np\n",
    "\n",
    "def pKi(input):\n",
    "    pKi = []\n",
    "\n",
    "    for i in input['Activity_Value_norm']:\n",
    "        molar = i*(10**-9) # Converts nM to M\n",
    "        pKi.append(-np.log10(molar))\n",
    "\n",
    "    input['pKi'] = pKi\n",
    "    x = input.drop('Activity_Value_norm', 1)\n",
    "        \n",
    "    return x\n"
   ]
  },
  {
   "cell_type": "code",
   "execution_count": 25,
   "id": "7a21dadb",
   "metadata": {},
   "outputs": [
    {
     "data": {
      "text/plain": [
       "count      3575.000000\n",
       "mean       2621.394070\n",
       "std        9139.809021\n",
       "min           0.100000\n",
       "25%           9.800000\n",
       "50%         100.000000\n",
       "75%         882.000000\n",
       "max      150385.000000\n",
       "Name: Activity_Value, dtype: float64"
      ]
     },
     "execution_count": 25,
     "metadata": {},
     "output_type": "execute_result"
    }
   ],
   "source": [
    "df.Activity_Value.describe()"
   ]
  },
  {
   "cell_type": "code",
   "execution_count": 26,
   "id": "ebcf86b4",
   "metadata": {},
   "outputs": [
    {
     "data": {
      "text/plain": [
       "1.0"
      ]
     },
     "execution_count": 26,
     "metadata": {},
     "output_type": "execute_result"
    }
   ],
   "source": [
    "-np.log10( (10**-9)* 100000000 )"
   ]
  },
  {
   "cell_type": "code",
   "execution_count": 27,
   "id": "cf8758e3",
   "metadata": {},
   "outputs": [
    {
     "data": {
      "text/plain": [
       "-1.0"
      ]
     },
     "execution_count": 27,
     "metadata": {},
     "output_type": "execute_result"
    }
   ],
   "source": [
    "-np.log10( (10**-9)* 10000000000 )"
   ]
  },
  {
   "cell_type": "code",
   "execution_count": 28,
   "id": "cad03821",
   "metadata": {},
   "outputs": [],
   "source": [
    "def norm_value(input):\n",
    "    norm = []\n",
    "\n",
    "    for i in input['Activity_Value']:\n",
    "        if i > 100000000:\n",
    "          i = 100000000\n",
    "        norm.append(i)\n",
    "\n",
    "    input['Activity_Value_norm'] = norm\n",
    "    x = input.drop('Activity_Value', 1)\n",
    "        \n",
    "    return x"
   ]
  },
  {
   "cell_type": "code",
   "execution_count": 30,
   "id": "468fae27",
   "metadata": {},
   "outputs": [
    {
     "name": "stderr",
     "output_type": "stream",
     "text": [
      "C:\\Users\\Zizi\\AppData\\Local\\Temp/ipykernel_17008/2370070746.py:10: FutureWarning: In a future version of pandas all arguments of DataFrame.drop except for the argument 'labels' will be keyword-only\n",
      "  x = input.drop('Activity_Value', 1)\n"
     ]
    },
    {
     "data": {
      "text/html": [
       "<div>\n",
       "<style scoped>\n",
       "    .dataframe tbody tr th:only-of-type {\n",
       "        vertical-align: middle;\n",
       "    }\n",
       "\n",
       "    .dataframe tbody tr th {\n",
       "        vertical-align: top;\n",
       "    }\n",
       "\n",
       "    .dataframe thead th {\n",
       "        text-align: right;\n",
       "    }\n",
       "</style>\n",
       "<table border=\"1\" class=\"dataframe\">\n",
       "  <thead>\n",
       "    <tr style=\"text-align: right;\">\n",
       "      <th></th>\n",
       "      <th>ChEMBL ID</th>\n",
       "      <th>Smiles</th>\n",
       "      <th>bioactivity_class</th>\n",
       "      <th>Activity_Value_norm</th>\n",
       "    </tr>\n",
       "  </thead>\n",
       "  <tbody>\n",
       "    <tr>\n",
       "      <th>0</th>\n",
       "      <td>CHEMBL567175</td>\n",
       "      <td>Oc1ccc2c3c1O[C@@H]1[C@@]43CCN([C@H](C2)[C@]4(O...</td>\n",
       "      <td>active</td>\n",
       "      <td>0.1</td>\n",
       "    </tr>\n",
       "    <tr>\n",
       "      <th>1</th>\n",
       "      <td>CHEMBL2113666</td>\n",
       "      <td>CN1CC[C@]23c4c5cccc4O[C@H]2C(=O)CC[C@@]3(NC(=O...</td>\n",
       "      <td>active</td>\n",
       "      <td>0.1</td>\n",
       "    </tr>\n",
       "    <tr>\n",
       "      <th>2</th>\n",
       "      <td>CHEMBL1649941</td>\n",
       "      <td>CCCC[C@@H](NC(=O)[C@@H](N)Cc1c(C)cc(O)cc1C)C(=...</td>\n",
       "      <td>active</td>\n",
       "      <td>0.1</td>\n",
       "    </tr>\n",
       "    <tr>\n",
       "      <th>3</th>\n",
       "      <td>CHEMBL334715</td>\n",
       "      <td>N=C(N)NCCC[C@@H](NC(=O)c1cccc2c3c([nH]c12)[C@@...</td>\n",
       "      <td>active</td>\n",
       "      <td>0.1</td>\n",
       "    </tr>\n",
       "    <tr>\n",
       "      <th>4</th>\n",
       "      <td>CHEMBL3785854</td>\n",
       "      <td>Oc1ccc2c(c1)[C@]13CCN(CC4CC4)[C@@H](C2)[C@]1(O...</td>\n",
       "      <td>active</td>\n",
       "      <td>0.1</td>\n",
       "    </tr>\n",
       "    <tr>\n",
       "      <th>...</th>\n",
       "      <td>...</td>\n",
       "      <td>...</td>\n",
       "      <td>...</td>\n",
       "      <td>...</td>\n",
       "    </tr>\n",
       "    <tr>\n",
       "      <th>3570</th>\n",
       "      <td>CHEMBL3698762</td>\n",
       "      <td>O=c1c(NC(CO)CO)nc2ccccc2n1C1CCN(C2CCCCCCC2)CC1</td>\n",
       "      <td>inactive</td>\n",
       "      <td>86219.0</td>\n",
       "    </tr>\n",
       "    <tr>\n",
       "      <th>3571</th>\n",
       "      <td>CHEMBL1076554</td>\n",
       "      <td>Cc1cccc(O)c1C(=O)C1=CCCN2CCC[C@@H]12</td>\n",
       "      <td>inactive</td>\n",
       "      <td>94000.0</td>\n",
       "    </tr>\n",
       "    <tr>\n",
       "      <th>3572</th>\n",
       "      <td>CHEMBL3695269</td>\n",
       "      <td>NC(=O)[C@H](CO)Nc1nc2ccccc2n(C2CCN(C3CCCCCCC3)...</td>\n",
       "      <td>inactive</td>\n",
       "      <td>96003.0</td>\n",
       "    </tr>\n",
       "    <tr>\n",
       "      <th>3573</th>\n",
       "      <td>CHEMBL233535</td>\n",
       "      <td>NCc1ccccc1C1(O)CCN(CC2CCCCCC2)CC1</td>\n",
       "      <td>inactive</td>\n",
       "      <td>99505.0</td>\n",
       "    </tr>\n",
       "    <tr>\n",
       "      <th>3574</th>\n",
       "      <td>CHEMBL241272</td>\n",
       "      <td>O=C1NCN(c2ccccc2)C12CCN(C(c1ccccc1Cl)c1ccccc1C...</td>\n",
       "      <td>inactive</td>\n",
       "      <td>150385.0</td>\n",
       "    </tr>\n",
       "  </tbody>\n",
       "</table>\n",
       "<p>3575 rows × 4 columns</p>\n",
       "</div>"
      ],
      "text/plain": [
       "          ChEMBL ID                                             Smiles  \\\n",
       "0      CHEMBL567175  Oc1ccc2c3c1O[C@@H]1[C@@]43CCN([C@H](C2)[C@]4(O...   \n",
       "1     CHEMBL2113666  CN1CC[C@]23c4c5cccc4O[C@H]2C(=O)CC[C@@]3(NC(=O...   \n",
       "2     CHEMBL1649941  CCCC[C@@H](NC(=O)[C@@H](N)Cc1c(C)cc(O)cc1C)C(=...   \n",
       "3      CHEMBL334715  N=C(N)NCCC[C@@H](NC(=O)c1cccc2c3c([nH]c12)[C@@...   \n",
       "4     CHEMBL3785854  Oc1ccc2c(c1)[C@]13CCN(CC4CC4)[C@@H](C2)[C@]1(O...   \n",
       "...             ...                                                ...   \n",
       "3570  CHEMBL3698762     O=c1c(NC(CO)CO)nc2ccccc2n1C1CCN(C2CCCCCCC2)CC1   \n",
       "3571  CHEMBL1076554               Cc1cccc(O)c1C(=O)C1=CCCN2CCC[C@@H]12   \n",
       "3572  CHEMBL3695269  NC(=O)[C@H](CO)Nc1nc2ccccc2n(C2CCN(C3CCCCCCC3)...   \n",
       "3573   CHEMBL233535                  NCc1ccccc1C1(O)CCN(CC2CCCCCC2)CC1   \n",
       "3574   CHEMBL241272  O=C1NCN(c2ccccc2)C12CCN(C(c1ccccc1Cl)c1ccccc1C...   \n",
       "\n",
       "     bioactivity_class  Activity_Value_norm  \n",
       "0               active                  0.1  \n",
       "1               active                  0.1  \n",
       "2               active                  0.1  \n",
       "3               active                  0.1  \n",
       "4               active                  0.1  \n",
       "...                ...                  ...  \n",
       "3570          inactive              86219.0  \n",
       "3571          inactive              94000.0  \n",
       "3572          inactive              96003.0  \n",
       "3573          inactive              99505.0  \n",
       "3574          inactive             150385.0  \n",
       "\n",
       "[3575 rows x 4 columns]"
      ]
     },
     "execution_count": 30,
     "metadata": {},
     "output_type": "execute_result"
    }
   ],
   "source": [
    "df_norm = norm_value(df)\n",
    "df_norm"
   ]
  },
  {
   "cell_type": "code",
   "execution_count": 31,
   "id": "69189d9d",
   "metadata": {},
   "outputs": [
    {
     "data": {
      "text/plain": [
       "count      3575.000000\n",
       "mean       2621.394070\n",
       "std        9139.809021\n",
       "min           0.100000\n",
       "25%           9.800000\n",
       "50%         100.000000\n",
       "75%         882.000000\n",
       "max      150385.000000\n",
       "Name: Activity_Value_norm, dtype: float64"
      ]
     },
     "execution_count": 31,
     "metadata": {},
     "output_type": "execute_result"
    }
   ],
   "source": [
    "df_norm.Activity_Value_norm.describe()"
   ]
  },
  {
   "cell_type": "code",
   "execution_count": 32,
   "id": "5a2b6ea6",
   "metadata": {},
   "outputs": [
    {
     "name": "stderr",
     "output_type": "stream",
     "text": [
      "C:\\Users\\Zizi\\AppData\\Local\\Temp/ipykernel_17008/3068478743.py:11: FutureWarning: In a future version of pandas all arguments of DataFrame.drop except for the argument 'labels' will be keyword-only\n",
      "  x = input.drop('Activity_Value_norm', 1)\n"
     ]
    },
    {
     "data": {
      "text/html": [
       "<div>\n",
       "<style scoped>\n",
       "    .dataframe tbody tr th:only-of-type {\n",
       "        vertical-align: middle;\n",
       "    }\n",
       "\n",
       "    .dataframe tbody tr th {\n",
       "        vertical-align: top;\n",
       "    }\n",
       "\n",
       "    .dataframe thead th {\n",
       "        text-align: right;\n",
       "    }\n",
       "</style>\n",
       "<table border=\"1\" class=\"dataframe\">\n",
       "  <thead>\n",
       "    <tr style=\"text-align: right;\">\n",
       "      <th></th>\n",
       "      <th>ChEMBL ID</th>\n",
       "      <th>Smiles</th>\n",
       "      <th>bioactivity_class</th>\n",
       "      <th>pKi</th>\n",
       "    </tr>\n",
       "  </thead>\n",
       "  <tbody>\n",
       "    <tr>\n",
       "      <th>0</th>\n",
       "      <td>CHEMBL567175</td>\n",
       "      <td>Oc1ccc2c3c1O[C@@H]1[C@@]43CCN([C@H](C2)[C@]4(O...</td>\n",
       "      <td>active</td>\n",
       "      <td>10.000000</td>\n",
       "    </tr>\n",
       "    <tr>\n",
       "      <th>1</th>\n",
       "      <td>CHEMBL2113666</td>\n",
       "      <td>CN1CC[C@]23c4c5cccc4O[C@H]2C(=O)CC[C@@]3(NC(=O...</td>\n",
       "      <td>active</td>\n",
       "      <td>10.000000</td>\n",
       "    </tr>\n",
       "    <tr>\n",
       "      <th>2</th>\n",
       "      <td>CHEMBL1649941</td>\n",
       "      <td>CCCC[C@@H](NC(=O)[C@@H](N)Cc1c(C)cc(O)cc1C)C(=...</td>\n",
       "      <td>active</td>\n",
       "      <td>10.000000</td>\n",
       "    </tr>\n",
       "    <tr>\n",
       "      <th>3</th>\n",
       "      <td>CHEMBL334715</td>\n",
       "      <td>N=C(N)NCCC[C@@H](NC(=O)c1cccc2c3c([nH]c12)[C@@...</td>\n",
       "      <td>active</td>\n",
       "      <td>10.000000</td>\n",
       "    </tr>\n",
       "    <tr>\n",
       "      <th>4</th>\n",
       "      <td>CHEMBL3785854</td>\n",
       "      <td>Oc1ccc2c(c1)[C@]13CCN(CC4CC4)[C@@H](C2)[C@]1(O...</td>\n",
       "      <td>active</td>\n",
       "      <td>10.000000</td>\n",
       "    </tr>\n",
       "    <tr>\n",
       "      <th>...</th>\n",
       "      <td>...</td>\n",
       "      <td>...</td>\n",
       "      <td>...</td>\n",
       "      <td>...</td>\n",
       "    </tr>\n",
       "    <tr>\n",
       "      <th>3570</th>\n",
       "      <td>CHEMBL3698762</td>\n",
       "      <td>O=c1c(NC(CO)CO)nc2ccccc2n1C1CCN(C2CCCCCCC2)CC1</td>\n",
       "      <td>inactive</td>\n",
       "      <td>4.064397</td>\n",
       "    </tr>\n",
       "    <tr>\n",
       "      <th>3571</th>\n",
       "      <td>CHEMBL1076554</td>\n",
       "      <td>Cc1cccc(O)c1C(=O)C1=CCCN2CCC[C@@H]12</td>\n",
       "      <td>inactive</td>\n",
       "      <td>4.026872</td>\n",
       "    </tr>\n",
       "    <tr>\n",
       "      <th>3572</th>\n",
       "      <td>CHEMBL3695269</td>\n",
       "      <td>NC(=O)[C@H](CO)Nc1nc2ccccc2n(C2CCN(C3CCCCCCC3)...</td>\n",
       "      <td>inactive</td>\n",
       "      <td>4.017715</td>\n",
       "    </tr>\n",
       "    <tr>\n",
       "      <th>3573</th>\n",
       "      <td>CHEMBL233535</td>\n",
       "      <td>NCc1ccccc1C1(O)CCN(CC2CCCCCC2)CC1</td>\n",
       "      <td>inactive</td>\n",
       "      <td>4.002155</td>\n",
       "    </tr>\n",
       "    <tr>\n",
       "      <th>3574</th>\n",
       "      <td>CHEMBL241272</td>\n",
       "      <td>O=C1NCN(c2ccccc2)C12CCN(C(c1ccccc1Cl)c1ccccc1C...</td>\n",
       "      <td>inactive</td>\n",
       "      <td>3.822795</td>\n",
       "    </tr>\n",
       "  </tbody>\n",
       "</table>\n",
       "<p>3575 rows × 4 columns</p>\n",
       "</div>"
      ],
      "text/plain": [
       "          ChEMBL ID                                             Smiles  \\\n",
       "0      CHEMBL567175  Oc1ccc2c3c1O[C@@H]1[C@@]43CCN([C@H](C2)[C@]4(O...   \n",
       "1     CHEMBL2113666  CN1CC[C@]23c4c5cccc4O[C@H]2C(=O)CC[C@@]3(NC(=O...   \n",
       "2     CHEMBL1649941  CCCC[C@@H](NC(=O)[C@@H](N)Cc1c(C)cc(O)cc1C)C(=...   \n",
       "3      CHEMBL334715  N=C(N)NCCC[C@@H](NC(=O)c1cccc2c3c([nH]c12)[C@@...   \n",
       "4     CHEMBL3785854  Oc1ccc2c(c1)[C@]13CCN(CC4CC4)[C@@H](C2)[C@]1(O...   \n",
       "...             ...                                                ...   \n",
       "3570  CHEMBL3698762     O=c1c(NC(CO)CO)nc2ccccc2n1C1CCN(C2CCCCCCC2)CC1   \n",
       "3571  CHEMBL1076554               Cc1cccc(O)c1C(=O)C1=CCCN2CCC[C@@H]12   \n",
       "3572  CHEMBL3695269  NC(=O)[C@H](CO)Nc1nc2ccccc2n(C2CCN(C3CCCCCCC3)...   \n",
       "3573   CHEMBL233535                  NCc1ccccc1C1(O)CCN(CC2CCCCCC2)CC1   \n",
       "3574   CHEMBL241272  O=C1NCN(c2ccccc2)C12CCN(C(c1ccccc1Cl)c1ccccc1C...   \n",
       "\n",
       "     bioactivity_class        pKi  \n",
       "0               active  10.000000  \n",
       "1               active  10.000000  \n",
       "2               active  10.000000  \n",
       "3               active  10.000000  \n",
       "4               active  10.000000  \n",
       "...                ...        ...  \n",
       "3570          inactive   4.064397  \n",
       "3571          inactive   4.026872  \n",
       "3572          inactive   4.017715  \n",
       "3573          inactive   4.002155  \n",
       "3574          inactive   3.822795  \n",
       "\n",
       "[3575 rows x 4 columns]"
      ]
     },
     "execution_count": 32,
     "metadata": {},
     "output_type": "execute_result"
    }
   ],
   "source": [
    "df_final = pKi(df_norm)\n",
    "df_final"
   ]
  },
  {
   "cell_type": "code",
   "execution_count": 33,
   "id": "ba64ac2c",
   "metadata": {},
   "outputs": [
    {
     "data": {
      "text/plain": [
       "count    3575.000000\n",
       "mean        7.028375\n",
       "std         1.295445\n",
       "min         3.822795\n",
       "25%         6.054532\n",
       "50%         7.000000\n",
       "75%         8.008774\n",
       "max        10.000000\n",
       "Name: pKi, dtype: float64"
      ]
     },
     "execution_count": 33,
     "metadata": {},
     "output_type": "execute_result"
    }
   ],
   "source": [
    "df_final.pKi.describe()"
   ]
  },
  {
   "cell_type": "code",
   "execution_count": 34,
   "id": "f6122ee9",
   "metadata": {},
   "outputs": [],
   "source": [
    "df_final.to_csv('data_final_3_class_pKi.csv', index=False)"
   ]
  },
  {
   "cell_type": "code",
   "execution_count": 35,
   "id": "28cc35a9",
   "metadata": {},
   "outputs": [
    {
     "data": {
      "text/html": [
       "<div>\n",
       "<style scoped>\n",
       "    .dataframe tbody tr th:only-of-type {\n",
       "        vertical-align: middle;\n",
       "    }\n",
       "\n",
       "    .dataframe tbody tr th {\n",
       "        vertical-align: top;\n",
       "    }\n",
       "\n",
       "    .dataframe thead th {\n",
       "        text-align: right;\n",
       "    }\n",
       "</style>\n",
       "<table border=\"1\" class=\"dataframe\">\n",
       "  <thead>\n",
       "    <tr style=\"text-align: right;\">\n",
       "      <th></th>\n",
       "      <th>ChEMBL ID</th>\n",
       "      <th>Smiles</th>\n",
       "      <th>bioactivity_class</th>\n",
       "      <th>pKi</th>\n",
       "    </tr>\n",
       "  </thead>\n",
       "  <tbody>\n",
       "    <tr>\n",
       "      <th>0</th>\n",
       "      <td>CHEMBL567175</td>\n",
       "      <td>Oc1ccc2c3c1O[C@@H]1[C@@]43CCN([C@H](C2)[C@]4(O...</td>\n",
       "      <td>active</td>\n",
       "      <td>10.000000</td>\n",
       "    </tr>\n",
       "    <tr>\n",
       "      <th>1</th>\n",
       "      <td>CHEMBL2113666</td>\n",
       "      <td>CN1CC[C@]23c4c5cccc4O[C@H]2C(=O)CC[C@@]3(NC(=O...</td>\n",
       "      <td>active</td>\n",
       "      <td>10.000000</td>\n",
       "    </tr>\n",
       "    <tr>\n",
       "      <th>2</th>\n",
       "      <td>CHEMBL1649941</td>\n",
       "      <td>CCCC[C@@H](NC(=O)[C@@H](N)Cc1c(C)cc(O)cc1C)C(=...</td>\n",
       "      <td>active</td>\n",
       "      <td>10.000000</td>\n",
       "    </tr>\n",
       "    <tr>\n",
       "      <th>3</th>\n",
       "      <td>CHEMBL334715</td>\n",
       "      <td>N=C(N)NCCC[C@@H](NC(=O)c1cccc2c3c([nH]c12)[C@@...</td>\n",
       "      <td>active</td>\n",
       "      <td>10.000000</td>\n",
       "    </tr>\n",
       "    <tr>\n",
       "      <th>4</th>\n",
       "      <td>CHEMBL3785854</td>\n",
       "      <td>Oc1ccc2c(c1)[C@]13CCN(CC4CC4)[C@@H](C2)[C@]1(O...</td>\n",
       "      <td>active</td>\n",
       "      <td>10.000000</td>\n",
       "    </tr>\n",
       "    <tr>\n",
       "      <th>...</th>\n",
       "      <td>...</td>\n",
       "      <td>...</td>\n",
       "      <td>...</td>\n",
       "      <td>...</td>\n",
       "    </tr>\n",
       "    <tr>\n",
       "      <th>3570</th>\n",
       "      <td>CHEMBL3698762</td>\n",
       "      <td>O=c1c(NC(CO)CO)nc2ccccc2n1C1CCN(C2CCCCCCC2)CC1</td>\n",
       "      <td>inactive</td>\n",
       "      <td>4.064397</td>\n",
       "    </tr>\n",
       "    <tr>\n",
       "      <th>3571</th>\n",
       "      <td>CHEMBL1076554</td>\n",
       "      <td>Cc1cccc(O)c1C(=O)C1=CCCN2CCC[C@@H]12</td>\n",
       "      <td>inactive</td>\n",
       "      <td>4.026872</td>\n",
       "    </tr>\n",
       "    <tr>\n",
       "      <th>3572</th>\n",
       "      <td>CHEMBL3695269</td>\n",
       "      <td>NC(=O)[C@H](CO)Nc1nc2ccccc2n(C2CCN(C3CCCCCCC3)...</td>\n",
       "      <td>inactive</td>\n",
       "      <td>4.017715</td>\n",
       "    </tr>\n",
       "    <tr>\n",
       "      <th>3573</th>\n",
       "      <td>CHEMBL233535</td>\n",
       "      <td>NCc1ccccc1C1(O)CCN(CC2CCCCCC2)CC1</td>\n",
       "      <td>inactive</td>\n",
       "      <td>4.002155</td>\n",
       "    </tr>\n",
       "    <tr>\n",
       "      <th>3574</th>\n",
       "      <td>CHEMBL241272</td>\n",
       "      <td>O=C1NCN(c2ccccc2)C12CCN(C(c1ccccc1Cl)c1ccccc1C...</td>\n",
       "      <td>inactive</td>\n",
       "      <td>3.822795</td>\n",
       "    </tr>\n",
       "  </tbody>\n",
       "</table>\n",
       "<p>2957 rows × 4 columns</p>\n",
       "</div>"
      ],
      "text/plain": [
       "          ChEMBL ID                                             Smiles  \\\n",
       "0      CHEMBL567175  Oc1ccc2c3c1O[C@@H]1[C@@]43CCN([C@H](C2)[C@]4(O...   \n",
       "1     CHEMBL2113666  CN1CC[C@]23c4c5cccc4O[C@H]2C(=O)CC[C@@]3(NC(=O...   \n",
       "2     CHEMBL1649941  CCCC[C@@H](NC(=O)[C@@H](N)Cc1c(C)cc(O)cc1C)C(=...   \n",
       "3      CHEMBL334715  N=C(N)NCCC[C@@H](NC(=O)c1cccc2c3c([nH]c12)[C@@...   \n",
       "4     CHEMBL3785854  Oc1ccc2c(c1)[C@]13CCN(CC4CC4)[C@@H](C2)[C@]1(O...   \n",
       "...             ...                                                ...   \n",
       "3570  CHEMBL3698762     O=c1c(NC(CO)CO)nc2ccccc2n1C1CCN(C2CCCCCCC2)CC1   \n",
       "3571  CHEMBL1076554               Cc1cccc(O)c1C(=O)C1=CCCN2CCC[C@@H]12   \n",
       "3572  CHEMBL3695269  NC(=O)[C@H](CO)Nc1nc2ccccc2n(C2CCN(C3CCCCCCC3)...   \n",
       "3573   CHEMBL233535                  NCc1ccccc1C1(O)CCN(CC2CCCCCC2)CC1   \n",
       "3574   CHEMBL241272  O=C1NCN(c2ccccc2)C12CCN(C(c1ccccc1Cl)c1ccccc1C...   \n",
       "\n",
       "     bioactivity_class        pKi  \n",
       "0               active  10.000000  \n",
       "1               active  10.000000  \n",
       "2               active  10.000000  \n",
       "3               active  10.000000  \n",
       "4               active  10.000000  \n",
       "...                ...        ...  \n",
       "3570          inactive   4.064397  \n",
       "3571          inactive   4.026872  \n",
       "3572          inactive   4.017715  \n",
       "3573          inactive   4.002155  \n",
       "3574          inactive   3.822795  \n",
       "\n",
       "[2957 rows x 4 columns]"
      ]
     },
     "execution_count": 35,
     "metadata": {},
     "output_type": "execute_result"
    }
   ],
   "source": [
    "df_2class = df_final[df_final.bioactivity_class != 'intermediate']\n",
    "df_2class"
   ]
  },
  {
   "cell_type": "code",
   "execution_count": 36,
   "id": "30b84c28",
   "metadata": {},
   "outputs": [],
   "source": [
    "df_2class.to_csv('data_final_2_class_pKi.csv', index=False)"
   ]
  },
  {
   "cell_type": "code",
   "execution_count": 37,
   "id": "4ade2fee",
   "metadata": {},
   "outputs": [],
   "source": [
    "import seaborn as sns\n",
    "sns.set(style='ticks')\n",
    "import matplotlib.pyplot as plt"
   ]
  },
  {
   "cell_type": "code",
   "execution_count": 38,
   "id": "128814eb",
   "metadata": {},
   "outputs": [
    {
     "data": {
      "image/png": "[encoded data removed]",
      "text/plain": [
       "<Figure size 396x396 with 1 Axes>"
      ]
     },
     "metadata": {},
     "output_type": "display_data"
    }
   ],
   "source": [
    "plot = plt.figure(figsize=(5.5, 5.5))\n",
    "\n",
    "detail = sns.countplot(x='bioactivity_class', data=df_2class, edgecolor='black')\n",
    "\n",
    "plt.xlabel('Bioactivity class', fontsize=14, fontweight='bold')\n",
    "plt.ylabel('Frequency', fontsize=14, fontweight='bold')\n",
    "\n",
    "plt.savefig('plot_bioactivity_class.pdf')"
   ]
  },
  {
   "cell_type": "code",
   "execution_count": null,
   "id": "83f538ff",
   "metadata": {},
   "outputs": [],
   "source": [
    "import matplotlib.pyplot as plt"
   ]
  },
  {
   "cell_type": "code",
   "execution_count": 39,
   "id": "6a7f6023",
   "metadata": {},
   "outputs": [
    {
     "data": {
      "text/plain": [
       "<Figure size 396x396 with 0 Axes>"
      ]
     },
     "execution_count": 39,
     "metadata": {},
     "output_type": "execute_result"
    },
    {
     "data": {
      "text/plain": [
       "<Figure size 396x396 with 0 Axes>"
      ]
     },
     "metadata": {},
     "output_type": "display_data"
    }
   ],
   "source": [
    "plt.figure(figsize=(5.5, 5.5))"
   ]
  },
  {
   "cell_type": "code",
   "execution_count": null,
   "id": "559d8325",
   "metadata": {},
   "outputs": [],
   "source": [
    "import seaborn as sns"
   ]
  },
  {
   "cell_type": "code",
   "execution_count": 40,
   "id": "e9db294d",
   "metadata": {},
   "outputs": [
    {
     "data": {
      "image/png": "[encoded data removed]",
      "text/plain": [
       "<Figure size 432x288 with 1 Axes>"
      ]
     },
     "metadata": {},
     "output_type": "display_data"
    }
   ],
   "source": [
    "sns.countplot(x='bioactivity_class', data=df_2class, edgecolor='black')\n",
    "\n",
    "plt.xlabel('Bioactivity class', fontsize=14, fontweight='bold')\n",
    "plt.ylabel('Frequency', fontsize=14, fontweight='bold')\n",
    "\n",
    "plt.savefig('plot_bioactivity_class.pdf')"
   ]
  },
  {
   "cell_type": "code",
   "execution_count": 41,
   "id": "d5759ad5",
   "metadata": {},
   "outputs": [
    {
     "data": {
      "text/html": [
       "<div>\n",
       "<style scoped>\n",
       "    .dataframe tbody tr th:only-of-type {\n",
       "        vertical-align: middle;\n",
       "    }\n",
       "\n",
       "    .dataframe tbody tr th {\n",
       "        vertical-align: top;\n",
       "    }\n",
       "\n",
       "    .dataframe thead th {\n",
       "        text-align: right;\n",
       "    }\n",
       "</style>\n",
       "<table border=\"1\" class=\"dataframe\">\n",
       "  <thead>\n",
       "    <tr style=\"text-align: right;\">\n",
       "      <th></th>\n",
       "      <th>ChEMBL ID</th>\n",
       "      <th>Smiles</th>\n",
       "      <th>bioactivity_class</th>\n",
       "      <th>pKi</th>\n",
       "    </tr>\n",
       "  </thead>\n",
       "  <tbody>\n",
       "    <tr>\n",
       "      <th>0</th>\n",
       "      <td>CHEMBL567175</td>\n",
       "      <td>Oc1ccc2c3c1O[C@@H]1[C@@]43CCN([C@H](C2)[C@]4(O...</td>\n",
       "      <td>active</td>\n",
       "      <td>10.000000</td>\n",
       "    </tr>\n",
       "    <tr>\n",
       "      <th>1</th>\n",
       "      <td>CHEMBL2113666</td>\n",
       "      <td>CN1CC[C@]23c4c5cccc4O[C@H]2C(=O)CC[C@@]3(NC(=O...</td>\n",
       "      <td>active</td>\n",
       "      <td>10.000000</td>\n",
       "    </tr>\n",
       "    <tr>\n",
       "      <th>2</th>\n",
       "      <td>CHEMBL1649941</td>\n",
       "      <td>CCCC[C@@H](NC(=O)[C@@H](N)Cc1c(C)cc(O)cc1C)C(=...</td>\n",
       "      <td>active</td>\n",
       "      <td>10.000000</td>\n",
       "    </tr>\n",
       "    <tr>\n",
       "      <th>3</th>\n",
       "      <td>CHEMBL334715</td>\n",
       "      <td>N=C(N)NCCC[C@@H](NC(=O)c1cccc2c3c([nH]c12)[C@@...</td>\n",
       "      <td>active</td>\n",
       "      <td>10.000000</td>\n",
       "    </tr>\n",
       "    <tr>\n",
       "      <th>4</th>\n",
       "      <td>CHEMBL3785854</td>\n",
       "      <td>Oc1ccc2c(c1)[C@]13CCN(CC4CC4)[C@@H](C2)[C@]1(O...</td>\n",
       "      <td>active</td>\n",
       "      <td>10.000000</td>\n",
       "    </tr>\n",
       "    <tr>\n",
       "      <th>...</th>\n",
       "      <td>...</td>\n",
       "      <td>...</td>\n",
       "      <td>...</td>\n",
       "      <td>...</td>\n",
       "    </tr>\n",
       "    <tr>\n",
       "      <th>3570</th>\n",
       "      <td>CHEMBL3698762</td>\n",
       "      <td>O=c1c(NC(CO)CO)nc2ccccc2n1C1CCN(C2CCCCCCC2)CC1</td>\n",
       "      <td>inactive</td>\n",
       "      <td>4.064397</td>\n",
       "    </tr>\n",
       "    <tr>\n",
       "      <th>3571</th>\n",
       "      <td>CHEMBL1076554</td>\n",
       "      <td>Cc1cccc(O)c1C(=O)C1=CCCN2CCC[C@@H]12</td>\n",
       "      <td>inactive</td>\n",
       "      <td>4.026872</td>\n",
       "    </tr>\n",
       "    <tr>\n",
       "      <th>3572</th>\n",
       "      <td>CHEMBL3695269</td>\n",
       "      <td>NC(=O)[C@H](CO)Nc1nc2ccccc2n(C2CCN(C3CCCCCCC3)...</td>\n",
       "      <td>inactive</td>\n",
       "      <td>4.017715</td>\n",
       "    </tr>\n",
       "    <tr>\n",
       "      <th>3573</th>\n",
       "      <td>CHEMBL233535</td>\n",
       "      <td>NCc1ccccc1C1(O)CCN(CC2CCCCCC2)CC1</td>\n",
       "      <td>inactive</td>\n",
       "      <td>4.002155</td>\n",
       "    </tr>\n",
       "    <tr>\n",
       "      <th>3574</th>\n",
       "      <td>CHEMBL241272</td>\n",
       "      <td>O=C1NCN(c2ccccc2)C12CCN(C(c1ccccc1Cl)c1ccccc1C...</td>\n",
       "      <td>inactive</td>\n",
       "      <td>3.822795</td>\n",
       "    </tr>\n",
       "  </tbody>\n",
       "</table>\n",
       "<p>2957 rows × 4 columns</p>\n",
       "</div>"
      ],
      "text/plain": [
       "          ChEMBL ID                                             Smiles  \\\n",
       "0      CHEMBL567175  Oc1ccc2c3c1O[C@@H]1[C@@]43CCN([C@H](C2)[C@]4(O...   \n",
       "1     CHEMBL2113666  CN1CC[C@]23c4c5cccc4O[C@H]2C(=O)CC[C@@]3(NC(=O...   \n",
       "2     CHEMBL1649941  CCCC[C@@H](NC(=O)[C@@H](N)Cc1c(C)cc(O)cc1C)C(=...   \n",
       "3      CHEMBL334715  N=C(N)NCCC[C@@H](NC(=O)c1cccc2c3c([nH]c12)[C@@...   \n",
       "4     CHEMBL3785854  Oc1ccc2c(c1)[C@]13CCN(CC4CC4)[C@@H](C2)[C@]1(O...   \n",
       "...             ...                                                ...   \n",
       "3570  CHEMBL3698762     O=c1c(NC(CO)CO)nc2ccccc2n1C1CCN(C2CCCCCCC2)CC1   \n",
       "3571  CHEMBL1076554               Cc1cccc(O)c1C(=O)C1=CCCN2CCC[C@@H]12   \n",
       "3572  CHEMBL3695269  NC(=O)[C@H](CO)Nc1nc2ccccc2n(C2CCN(C3CCCCCCC3)...   \n",
       "3573   CHEMBL233535                  NCc1ccccc1C1(O)CCN(CC2CCCCCC2)CC1   \n",
       "3574   CHEMBL241272  O=C1NCN(c2ccccc2)C12CCN(C(c1ccccc1Cl)c1ccccc1C...   \n",
       "\n",
       "     bioactivity_class        pKi  \n",
       "0               active  10.000000  \n",
       "1               active  10.000000  \n",
       "2               active  10.000000  \n",
       "3               active  10.000000  \n",
       "4               active  10.000000  \n",
       "...                ...        ...  \n",
       "3570          inactive   4.064397  \n",
       "3571          inactive   4.026872  \n",
       "3572          inactive   4.017715  \n",
       "3573          inactive   4.002155  \n",
       "3574          inactive   3.822795  \n",
       "\n",
       "[2957 rows x 4 columns]"
      ]
     },
     "execution_count": 41,
     "metadata": {},
     "output_type": "execute_result"
    }
   ],
   "source": [
    "df_2class"
   ]
  },
  {
   "cell_type": "code",
   "execution_count": 42,
   "id": "387e87f0",
   "metadata": {},
   "outputs": [
    {
     "data": {
      "image/png": "[encoded data removed]",
      "text/plain": [
       "<Figure size 396x396 with 1 Axes>"
      ]
     },
     "metadata": {},
     "output_type": "display_data"
    }
   ],
   "source": [
    "plt.figure(figsize=(5.5, 5.5))\n",
    "\n",
    "sns.boxplot(x = 'bioactivity_class', y = 'pKi', data = df_2class)\n",
    "\n",
    "plt.xlabel('Bioactivity class', fontsize=14, fontweight='bold')\n",
    "plt.ylabel('pKi value', fontsize=14, fontweight='bold')\n",
    "\n",
    "plt.savefig('plot_pKi.pdf')"
   ]
  },
  {
   "cell_type": "code",
   "execution_count": 58,
   "id": "2778ff84",
   "metadata": {},
   "outputs": [],
   "source": [
    "def mannwhitney(descriptor, verbose=False):\n",
    "  # https://machinelearningmastery.com/nonparametric-statistical-significance-tests-in-python/\n",
    "  from numpy.random import seed\n",
    "  from numpy.random import randn\n",
    "  from scipy.stats import mannwhitneyu\n",
    "\n",
    "# seed the random number generator\n",
    "  seed(1)\n",
    "\n",
    "# actives and inactives\n",
    "  selection = [descriptor, 'bioactivity_class']\n",
    "  df = df_2class[selection]\n",
    "  active = df[df.bioactivity_class == 'active']\n",
    "  active = active[descriptor]\n",
    "\n",
    "  selection = [descriptor, 'bioactivity_class']\n",
    "  df = df_2class[selection]\n",
    "  inactive = df[df.bioactivity_class == 'inactive']\n",
    "  inactive = inactive[descriptor]\n",
    "\n",
    "# compare samples\n",
    "  stat, p = mannwhitneyu(active, inactive)\n",
    "  #print('Statistics=%.3f, p=%.3f' % (stat, p))\n",
    "\n",
    "# interpret\n",
    "  alpha = 0.05\n",
    "  if p > alpha:\n",
    "    interpretation = 'Same distribution (fail to reject H0)'\n",
    "  else:\n",
    "    interpretation = 'Different distribution (reject H0)'\n",
    "  \n",
    "  results = pd.DataFrame({'Descriptor':descriptor,\n",
    "                          'Statistics':stat,\n",
    "                          'p':p,\n",
    "                          'alpha':alpha,\n",
    "                          'Interpretation':interpretation}, index=[0])\n",
    "  filename = 'mannwhitneyu_' + descriptor + '.csv'\n",
    "  results.to_csv(filename)\n",
    "\n",
    "  return results"
   ]
  },
  {
   "cell_type": "code",
   "execution_count": 59,
   "id": "9320b1cd",
   "metadata": {},
   "outputs": [
    {
     "data": {
      "text/html": [
       "<div>\n",
       "<style scoped>\n",
       "    .dataframe tbody tr th:only-of-type {\n",
       "        vertical-align: middle;\n",
       "    }\n",
       "\n",
       "    .dataframe tbody tr th {\n",
       "        vertical-align: top;\n",
       "    }\n",
       "\n",
       "    .dataframe thead th {\n",
       "        text-align: right;\n",
       "    }\n",
       "</style>\n",
       "<table border=\"1\" class=\"dataframe\">\n",
       "  <thead>\n",
       "    <tr style=\"text-align: right;\">\n",
       "      <th></th>\n",
       "      <th>Descriptor</th>\n",
       "      <th>Statistics</th>\n",
       "      <th>p</th>\n",
       "      <th>alpha</th>\n",
       "      <th>Interpretation</th>\n",
       "    </tr>\n",
       "  </thead>\n",
       "  <tbody>\n",
       "    <tr>\n",
       "      <th>0</th>\n",
       "      <td>pKi</td>\n",
       "      <td>627210.0</td>\n",
       "      <td>1.735244e-140</td>\n",
       "      <td>0.05</td>\n",
       "      <td>Different distribution (reject H0)</td>\n",
       "    </tr>\n",
       "  </tbody>\n",
       "</table>\n",
       "</div>"
      ],
      "text/plain": [
       "  Descriptor  Statistics              p  alpha  \\\n",
       "0        pKi    627210.0  1.735244e-140   0.05   \n",
       "\n",
       "                       Interpretation  \n",
       "0  Different distribution (reject H0)  "
      ]
     },
     "execution_count": 59,
     "metadata": {},
     "output_type": "execute_result"
    }
   ],
   "source": [
    "mannwhitney('pKi')"
   ]
  },
  {
   "cell_type": "code",
   "execution_count": 60,
   "id": "1641eb3d",
   "metadata": {},
   "outputs": [],
   "source": [
    "import pandas as pd"
   ]
  },
  {
   "cell_type": "code",
   "execution_count": 61,
   "id": "5ce74e62",
   "metadata": {},
   "outputs": [],
   "source": [
    "selection = ['Smiles','ChEMBL ID']\n",
    "df_selection = df_2class[selection]\n",
    "df_selection.to_csv('molecule.smi', sep='\\t', index=False, header=False)"
   ]
  },
  {
   "cell_type": "code",
   "execution_count": 63,
   "id": "6dcf9ba5",
   "metadata": {},
   "outputs": [
    {
     "name": "stdout",
     "output_type": "stream",
     "text": [
      "Oc1ccc2c3c1O[C@@H]1[C@@]43CCN([C@H](C2)[C@]4(O)Cc2c1[nH]c1c2cccc1)CC1CC1\tCHEMBL567175\n",
      "CN1CC[C@]23c4c5cccc4O[C@H]2C(=O)CC[C@@]3(NC(=O)/C=C/c2ccccc2Cl)[C@H]1C5\tCHEMBL2113666\n",
      "CCCC[C@@H](NC(=O)[C@@H](N)Cc1c(C)cc(O)cc1C)C(=O)NCC(=O)N[C@@H](Cc1ccc(Cl)cc1)C(=O)N1CCC(N(C(=O)CC)c2ccccc2)CC1\tCHEMBL1649941\n",
      "N=C(N)NCCC[C@@H](NC(=O)c1cccc2c3c([nH]c12)[C@@H]1Oc2c(O)ccc4c2C12CCN(CC1CC1)C(C4)[C@]2(O)C3)C(=O)O\tCHEMBL334715\n",
      "Oc1ccc2c(c1)[C@]13CCN(CC4CC4)[C@@H](C2)[C@]1(O)Cc1c([nH]c2ccccc12)C3\tCHEMBL3785854\n"
     ]
    },
    {
     "name": "stderr",
     "output_type": "stream",
     "text": [
      "cat: write error: No space left on device\n"
     ]
    }
   ],
   "source": [
    "! cat molecule.smi | head -5"
   ]
  },
  {
   "cell_type": "code",
   "execution_count": 64,
   "id": "e1ea6a6b",
   "metadata": {},
   "outputs": [
    {
     "name": "stdout",
     "output_type": "stream",
     "text": [
      "2957\n"
     ]
    }
   ],
   "source": [
    "! cat molecule.smi | wc -l"
   ]
  },
  {
   "cell_type": "code",
   "execution_count": null,
   "id": "5287aae0",
   "metadata": {},
   "outputs": [],
   "source": []
  }
 ],
 "metadata": {
  "kernelspec": {
   "display_name": "Python 3 (ipykernel)",
   "language": "python",
   "name": "python3"
  },
  "language_info": {
   "codemirror_mode": {
    "name": "ipython",
    "version": 3
   },
   "file_extension": ".py",
   "mimetype": "text/x-python",
   "name": "python",
   "nbconvert_exporter": "python",
   "pygments_lexer": "ipython3",
   "version": "3.9.7"
  }
 },
 "nbformat": 4,
 "nbformat_minor": 5
}
