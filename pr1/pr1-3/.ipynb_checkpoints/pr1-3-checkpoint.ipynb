{
 "cells": [
  {
   "cell_type": "code",
   "execution_count": 16,
   "id": "28058052",
   "metadata": {},
   "outputs": [
    {
     "data": {
      "text/html": [
       "<div>\n",
       "<style scoped>\n",
       "    .dataframe tbody tr th:only-of-type {\n",
       "        vertical-align: middle;\n",
       "    }\n",
       "\n",
       "    .dataframe tbody tr th {\n",
       "        vertical-align: top;\n",
       "    }\n",
       "\n",
       "    .dataframe thead th {\n",
       "        text-align: right;\n",
       "    }\n",
       "</style>\n",
       "<table border=\"1\" class=\"dataframe\">\n",
       "  <thead>\n",
       "    <tr style=\"text-align: right;\">\n",
       "      <th></th>\n",
       "      <th>ChEMBL ID</th>\n",
       "      <th>Smiles</th>\n",
       "      <th>Canonical_Smiles</th>\n",
       "      <th>bioactivity_class</th>\n",
       "      <th>pKi</th>\n",
       "      <th>MW</th>\n",
       "      <th>LogP</th>\n",
       "      <th>NumHDonors</th>\n",
       "      <th>NumHAcceptors</th>\n",
       "    </tr>\n",
       "  </thead>\n",
       "  <tbody>\n",
       "    <tr>\n",
       "      <th>0</th>\n",
       "      <td>CHEMBL567175</td>\n",
       "      <td>Oc1ccc2c3c1O[C@@H]1[C@@]43CCN([C@H](C2)[C@]4(O...</td>\n",
       "      <td>Oc1ccc2c3c1O[C@@H]1[C@@]43CCN([C@H](C2)[C@]4(O...</td>\n",
       "      <td>active</td>\n",
       "      <td>10.000000</td>\n",
       "      <td>414.505</td>\n",
       "      <td>3.57260</td>\n",
       "      <td>3.0</td>\n",
       "      <td>4.0</td>\n",
       "    </tr>\n",
       "    <tr>\n",
       "      <th>1</th>\n",
       "      <td>CHEMBL2113666</td>\n",
       "      <td>CN1CC[C@]23c4c5cccc4O[C@H]2C(=O)CC[C@@]3(NC(=O...</td>\n",
       "      <td>O=C(N[C@]12CCC(=O)[C@H]3[C@]42CCN([C@@H]1Cc1c4...</td>\n",
       "      <td>active</td>\n",
       "      <td>10.000000</td>\n",
       "      <td>448.950</td>\n",
       "      <td>3.53030</td>\n",
       "      <td>1.0</td>\n",
       "      <td>4.0</td>\n",
       "    </tr>\n",
       "    <tr>\n",
       "      <th>2</th>\n",
       "      <td>CHEMBL1649941</td>\n",
       "      <td>CCCC[C@@H](NC(=O)[C@@H](N)Cc1c(C)cc(O)cc1C)C(=...</td>\n",
       "      <td>CCCC[C@H](C(=O)NCC(=O)N[C@H](C(=O)N1CCC(CC1)N(...</td>\n",
       "      <td>active</td>\n",
       "      <td>10.000000</td>\n",
       "      <td>775.391</td>\n",
       "      <td>4.48514</td>\n",
       "      <td>5.0</td>\n",
       "      <td>7.0</td>\n",
       "    </tr>\n",
       "    <tr>\n",
       "      <th>3</th>\n",
       "      <td>CHEMBL334715</td>\n",
       "      <td>N=C(N)NCCC[C@@H](NC(=O)c1cccc2c3c([nH]c12)[C@@...</td>\n",
       "      <td>NC(=N)NCCC[C@H](C(=O)O)NC(=O)c1cccc2c1[nH]c1c2...</td>\n",
       "      <td>active</td>\n",
       "      <td>10.000000</td>\n",
       "      <td>614.703</td>\n",
       "      <td>2.01887</td>\n",
       "      <td>8.0</td>\n",
       "      <td>7.0</td>\n",
       "    </tr>\n",
       "    <tr>\n",
       "      <th>4</th>\n",
       "      <td>CHEMBL3785854</td>\n",
       "      <td>Oc1ccc2c(c1)[C@]13CCN(CC4CC4)[C@@H](C2)[C@]1(O...</td>\n",
       "      <td>Oc1ccc2c(c1)[C@@]13CCN([C@@H](C2)[C@]3(O)Cc2c(...</td>\n",
       "      <td>active</td>\n",
       "      <td>10.000000</td>\n",
       "      <td>400.522</td>\n",
       "      <td>3.68160</td>\n",
       "      <td>3.0</td>\n",
       "      <td>3.0</td>\n",
       "    </tr>\n",
       "    <tr>\n",
       "      <th>...</th>\n",
       "      <td>...</td>\n",
       "      <td>...</td>\n",
       "      <td>...</td>\n",
       "      <td>...</td>\n",
       "      <td>...</td>\n",
       "      <td>...</td>\n",
       "      <td>...</td>\n",
       "      <td>...</td>\n",
       "      <td>...</td>\n",
       "    </tr>\n",
       "    <tr>\n",
       "      <th>2946</th>\n",
       "      <td>CHEMBL3698762</td>\n",
       "      <td>O=c1c(NC(CO)CO)nc2ccccc2n1C1CCN(C2CCCCCCC2)CC1</td>\n",
       "      <td>OCC(Nc1nc2ccccc2n(c1=O)C1CCN(CC1)C1CCCCCCC1)CO</td>\n",
       "      <td>inactive</td>\n",
       "      <td>4.064397</td>\n",
       "      <td>428.577</td>\n",
       "      <td>2.91140</td>\n",
       "      <td>3.0</td>\n",
       "      <td>7.0</td>\n",
       "    </tr>\n",
       "    <tr>\n",
       "      <th>2947</th>\n",
       "      <td>CHEMBL1076554</td>\n",
       "      <td>Cc1cccc(O)c1C(=O)C1=CCCN2CCC[C@@H]12</td>\n",
       "      <td>Cc1cccc(c1C(=O)C1=CCCN2[C@H]1CCC2)O</td>\n",
       "      <td>inactive</td>\n",
       "      <td>4.026872</td>\n",
       "      <td>257.333</td>\n",
       "      <td>2.67782</td>\n",
       "      <td>1.0</td>\n",
       "      <td>3.0</td>\n",
       "    </tr>\n",
       "    <tr>\n",
       "      <th>2948</th>\n",
       "      <td>CHEMBL3695269</td>\n",
       "      <td>NC(=O)[C@H](CO)Nc1nc2ccccc2n(C2CCN(C3CCCCCCC3)...</td>\n",
       "      <td>OC[C@@H](C(=O)N)Nc1nc2ccccc2n(c1=O)C1CCN(CC1)C...</td>\n",
       "      <td>inactive</td>\n",
       "      <td>4.017715</td>\n",
       "      <td>441.576</td>\n",
       "      <td>2.40440</td>\n",
       "      <td>3.0</td>\n",
       "      <td>7.0</td>\n",
       "    </tr>\n",
       "    <tr>\n",
       "      <th>2949</th>\n",
       "      <td>CHEMBL233535</td>\n",
       "      <td>NCc1ccccc1C1(O)CCN(CC2CCCCCC2)CC1</td>\n",
       "      <td>NCc1ccccc1C1(O)CCN(CC1)CC1CCCCCC1</td>\n",
       "      <td>inactive</td>\n",
       "      <td>4.002155</td>\n",
       "      <td>316.489</td>\n",
       "      <td>3.39910</td>\n",
       "      <td>2.0</td>\n",
       "      <td>3.0</td>\n",
       "    </tr>\n",
       "    <tr>\n",
       "      <th>2950</th>\n",
       "      <td>CHEMBL241272</td>\n",
       "      <td>O=C1NCN(c2ccccc2)C12CCN(C(c1ccccc1Cl)c1ccccc1C...</td>\n",
       "      <td>Clc1ccccc1C(c1ccccc1Cl)N1CCC2(CC1)C(=O)NCN2c1c...</td>\n",
       "      <td>inactive</td>\n",
       "      <td>3.822795</td>\n",
       "      <td>466.412</td>\n",
       "      <td>5.51130</td>\n",
       "      <td>1.0</td>\n",
       "      <td>3.0</td>\n",
       "    </tr>\n",
       "  </tbody>\n",
       "</table>\n",
       "<p>2951 rows × 9 columns</p>\n",
       "</div>"
      ],
      "text/plain": [
       "          ChEMBL ID                                             Smiles  \\\n",
       "0      CHEMBL567175  Oc1ccc2c3c1O[C@@H]1[C@@]43CCN([C@H](C2)[C@]4(O...   \n",
       "1     CHEMBL2113666  CN1CC[C@]23c4c5cccc4O[C@H]2C(=O)CC[C@@]3(NC(=O...   \n",
       "2     CHEMBL1649941  CCCC[C@@H](NC(=O)[C@@H](N)Cc1c(C)cc(O)cc1C)C(=...   \n",
       "3      CHEMBL334715  N=C(N)NCCC[C@@H](NC(=O)c1cccc2c3c([nH]c12)[C@@...   \n",
       "4     CHEMBL3785854  Oc1ccc2c(c1)[C@]13CCN(CC4CC4)[C@@H](C2)[C@]1(O...   \n",
       "...             ...                                                ...   \n",
       "2946  CHEMBL3698762     O=c1c(NC(CO)CO)nc2ccccc2n1C1CCN(C2CCCCCCC2)CC1   \n",
       "2947  CHEMBL1076554               Cc1cccc(O)c1C(=O)C1=CCCN2CCC[C@@H]12   \n",
       "2948  CHEMBL3695269  NC(=O)[C@H](CO)Nc1nc2ccccc2n(C2CCN(C3CCCCCCC3)...   \n",
       "2949   CHEMBL233535                  NCc1ccccc1C1(O)CCN(CC2CCCCCC2)CC1   \n",
       "2950   CHEMBL241272  O=C1NCN(c2ccccc2)C12CCN(C(c1ccccc1Cl)c1ccccc1C...   \n",
       "\n",
       "                                       Canonical_Smiles bioactivity_class  \\\n",
       "0     Oc1ccc2c3c1O[C@@H]1[C@@]43CCN([C@H](C2)[C@]4(O...            active   \n",
       "1     O=C(N[C@]12CCC(=O)[C@H]3[C@]42CCN([C@@H]1Cc1c4...            active   \n",
       "2     CCCC[C@H](C(=O)NCC(=O)N[C@H](C(=O)N1CCC(CC1)N(...            active   \n",
       "3     NC(=N)NCCC[C@H](C(=O)O)NC(=O)c1cccc2c1[nH]c1c2...            active   \n",
       "4     Oc1ccc2c(c1)[C@@]13CCN([C@@H](C2)[C@]3(O)Cc2c(...            active   \n",
       "...                                                 ...               ...   \n",
       "2946     OCC(Nc1nc2ccccc2n(c1=O)C1CCN(CC1)C1CCCCCCC1)CO          inactive   \n",
       "2947                Cc1cccc(c1C(=O)C1=CCCN2[C@H]1CCC2)O          inactive   \n",
       "2948  OC[C@@H](C(=O)N)Nc1nc2ccccc2n(c1=O)C1CCN(CC1)C...          inactive   \n",
       "2949                  NCc1ccccc1C1(O)CCN(CC1)CC1CCCCCC1          inactive   \n",
       "2950  Clc1ccccc1C(c1ccccc1Cl)N1CCC2(CC1)C(=O)NCN2c1c...          inactive   \n",
       "\n",
       "            pKi       MW     LogP  NumHDonors  NumHAcceptors  \n",
       "0     10.000000  414.505  3.57260         3.0            4.0  \n",
       "1     10.000000  448.950  3.53030         1.0            4.0  \n",
       "2     10.000000  775.391  4.48514         5.0            7.0  \n",
       "3     10.000000  614.703  2.01887         8.0            7.0  \n",
       "4     10.000000  400.522  3.68160         3.0            3.0  \n",
       "...         ...      ...      ...         ...            ...  \n",
       "2946   4.064397  428.577  2.91140         3.0            7.0  \n",
       "2947   4.026872  257.333  2.67782         1.0            3.0  \n",
       "2948   4.017715  441.576  2.40440         3.0            7.0  \n",
       "2949   4.002155  316.489  3.39910         2.0            3.0  \n",
       "2950   3.822795  466.412  5.51130         1.0            3.0  \n",
       "\n",
       "[2951 rows x 9 columns]"
      ]
     },
     "execution_count": 16,
     "metadata": {},
     "output_type": "execute_result"
    }
   ],
   "source": [
    "import numpy as np\n",
    "import pandas as pd\n",
    "from sklearn.model_selection import train_test_split\n",
    "from sklearn.ensemble import RandomForestRegressor\n",
    "df = pd.read_csv('data_2class_pKi_Lipinski.csv')\n",
    "df\n"
   ]
  },
  {
   "cell_type": "code",
   "execution_count": 21,
   "id": "8db0a821",
   "metadata": {},
   "outputs": [
    {
     "data": {
      "text/html": [
       "<div>\n",
       "<style scoped>\n",
       "    .dataframe tbody tr th:only-of-type {\n",
       "        vertical-align: middle;\n",
       "    }\n",
       "\n",
       "    .dataframe tbody tr th {\n",
       "        vertical-align: top;\n",
       "    }\n",
       "\n",
       "    .dataframe thead th {\n",
       "        text-align: right;\n",
       "    }\n",
       "</style>\n",
       "<table border=\"1\" class=\"dataframe\">\n",
       "  <thead>\n",
       "    <tr style=\"text-align: right;\">\n",
       "      <th></th>\n",
       "      <th>ChEMBL ID</th>\n",
       "      <th>LogP</th>\n",
       "    </tr>\n",
       "  </thead>\n",
       "  <tbody>\n",
       "    <tr>\n",
       "      <th>0</th>\n",
       "      <td>CHEMBL567175</td>\n",
       "      <td>3.57260</td>\n",
       "    </tr>\n",
       "    <tr>\n",
       "      <th>1</th>\n",
       "      <td>CHEMBL2113666</td>\n",
       "      <td>3.53030</td>\n",
       "    </tr>\n",
       "    <tr>\n",
       "      <th>2</th>\n",
       "      <td>CHEMBL1649941</td>\n",
       "      <td>4.48514</td>\n",
       "    </tr>\n",
       "    <tr>\n",
       "      <th>3</th>\n",
       "      <td>CHEMBL334715</td>\n",
       "      <td>2.01887</td>\n",
       "    </tr>\n",
       "    <tr>\n",
       "      <th>4</th>\n",
       "      <td>CHEMBL3785854</td>\n",
       "      <td>3.68160</td>\n",
       "    </tr>\n",
       "    <tr>\n",
       "      <th>...</th>\n",
       "      <td>...</td>\n",
       "      <td>...</td>\n",
       "    </tr>\n",
       "    <tr>\n",
       "      <th>2946</th>\n",
       "      <td>CHEMBL3698762</td>\n",
       "      <td>2.91140</td>\n",
       "    </tr>\n",
       "    <tr>\n",
       "      <th>2947</th>\n",
       "      <td>CHEMBL1076554</td>\n",
       "      <td>2.67782</td>\n",
       "    </tr>\n",
       "    <tr>\n",
       "      <th>2948</th>\n",
       "      <td>CHEMBL3695269</td>\n",
       "      <td>2.40440</td>\n",
       "    </tr>\n",
       "    <tr>\n",
       "      <th>2949</th>\n",
       "      <td>CHEMBL233535</td>\n",
       "      <td>3.39910</td>\n",
       "    </tr>\n",
       "    <tr>\n",
       "      <th>2950</th>\n",
       "      <td>CHEMBL241272</td>\n",
       "      <td>5.51130</td>\n",
       "    </tr>\n",
       "  </tbody>\n",
       "</table>\n",
       "<p>2951 rows × 2 columns</p>\n",
       "</div>"
      ],
      "text/plain": [
       "          ChEMBL ID     LogP\n",
       "0      CHEMBL567175  3.57260\n",
       "1     CHEMBL2113666  3.53030\n",
       "2     CHEMBL1649941  4.48514\n",
       "3      CHEMBL334715  2.01887\n",
       "4     CHEMBL3785854  3.68160\n",
       "...             ...      ...\n",
       "2946  CHEMBL3698762  2.91140\n",
       "2947  CHEMBL1076554  2.67782\n",
       "2948  CHEMBL3695269  2.40440\n",
       "2949   CHEMBL233535  3.39910\n",
       "2950   CHEMBL241272  5.51130\n",
       "\n",
       "[2951 rows x 2 columns]"
      ]
     },
     "execution_count": 21,
     "metadata": {},
     "output_type": "execute_result"
    }
   ],
   "source": [
    "selection = ['ChEMBL ID', 'LogP']\n",
    "df_LogP = df[selection]\n",
    "df_LogP"
   ]
  },
  {
   "cell_type": "code",
   "execution_count": 22,
   "id": "fb6db7e3",
   "metadata": {},
   "outputs": [
    {
     "data": {
      "text/html": [
       "<div>\n",
       "<style scoped>\n",
       "    .dataframe tbody tr th:only-of-type {\n",
       "        vertical-align: middle;\n",
       "    }\n",
       "\n",
       "    .dataframe tbody tr th {\n",
       "        vertical-align: top;\n",
       "    }\n",
       "\n",
       "    .dataframe thead th {\n",
       "        text-align: right;\n",
       "    }\n",
       "</style>\n",
       "<table border=\"1\" class=\"dataframe\">\n",
       "  <thead>\n",
       "    <tr style=\"text-align: right;\">\n",
       "      <th></th>\n",
       "      <th>ChEMBL ID</th>\n",
       "      <th>LogP</th>\n",
       "    </tr>\n",
       "  </thead>\n",
       "  <tbody>\n",
       "    <tr>\n",
       "      <th>0</th>\n",
       "      <td>CHEMBL567175</td>\n",
       "      <td>3.57260</td>\n",
       "    </tr>\n",
       "    <tr>\n",
       "      <th>1</th>\n",
       "      <td>CHEMBL2113666</td>\n",
       "      <td>3.53030</td>\n",
       "    </tr>\n",
       "    <tr>\n",
       "      <th>2</th>\n",
       "      <td>CHEMBL1649941</td>\n",
       "      <td>4.48514</td>\n",
       "    </tr>\n",
       "    <tr>\n",
       "      <th>3</th>\n",
       "      <td>CHEMBL334715</td>\n",
       "      <td>2.01887</td>\n",
       "    </tr>\n",
       "    <tr>\n",
       "      <th>4</th>\n",
       "      <td>CHEMBL3785854</td>\n",
       "      <td>3.68160</td>\n",
       "    </tr>\n",
       "    <tr>\n",
       "      <th>...</th>\n",
       "      <td>...</td>\n",
       "      <td>...</td>\n",
       "    </tr>\n",
       "    <tr>\n",
       "      <th>2946</th>\n",
       "      <td>CHEMBL3698762</td>\n",
       "      <td>2.91140</td>\n",
       "    </tr>\n",
       "    <tr>\n",
       "      <th>2947</th>\n",
       "      <td>CHEMBL1076554</td>\n",
       "      <td>2.67782</td>\n",
       "    </tr>\n",
       "    <tr>\n",
       "      <th>2948</th>\n",
       "      <td>CHEMBL3695269</td>\n",
       "      <td>2.40440</td>\n",
       "    </tr>\n",
       "    <tr>\n",
       "      <th>2949</th>\n",
       "      <td>CHEMBL233535</td>\n",
       "      <td>3.39910</td>\n",
       "    </tr>\n",
       "    <tr>\n",
       "      <th>2950</th>\n",
       "      <td>CHEMBL241272</td>\n",
       "      <td>5.51130</td>\n",
       "    </tr>\n",
       "  </tbody>\n",
       "</table>\n",
       "<p>2951 rows × 2 columns</p>\n",
       "</div>"
      ],
      "text/plain": [
       "          ChEMBL ID     LogP\n",
       "0      CHEMBL567175  3.57260\n",
       "1     CHEMBL2113666  3.53030\n",
       "2     CHEMBL1649941  4.48514\n",
       "3      CHEMBL334715  2.01887\n",
       "4     CHEMBL3785854  3.68160\n",
       "...             ...      ...\n",
       "2946  CHEMBL3698762  2.91140\n",
       "2947  CHEMBL1076554  2.67782\n",
       "2948  CHEMBL3695269  2.40440\n",
       "2949   CHEMBL233535  3.39910\n",
       "2950   CHEMBL241272  5.51130\n",
       "\n",
       "[2951 rows x 2 columns]"
      ]
     },
     "execution_count": 22,
     "metadata": {},
     "output_type": "execute_result"
    }
   ],
   "source": [
    "df_desc_X = df_LogP\n",
    "df_desc_X"
   ]
  },
  {
   "cell_type": "code",
   "execution_count": 25,
   "id": "b8ef651a",
   "metadata": {},
   "outputs": [
    {
     "data": {
      "text/html": [
       "<div>\n",
       "<style scoped>\n",
       "    .dataframe tbody tr th:only-of-type {\n",
       "        vertical-align: middle;\n",
       "    }\n",
       "\n",
       "    .dataframe tbody tr th {\n",
       "        vertical-align: top;\n",
       "    }\n",
       "\n",
       "    .dataframe thead th {\n",
       "        text-align: right;\n",
       "    }\n",
       "</style>\n",
       "<table border=\"1\" class=\"dataframe\">\n",
       "  <thead>\n",
       "    <tr style=\"text-align: right;\">\n",
       "      <th></th>\n",
       "      <th>LogP</th>\n",
       "    </tr>\n",
       "  </thead>\n",
       "  <tbody>\n",
       "    <tr>\n",
       "      <th>0</th>\n",
       "      <td>3.57260</td>\n",
       "    </tr>\n",
       "    <tr>\n",
       "      <th>1</th>\n",
       "      <td>3.53030</td>\n",
       "    </tr>\n",
       "    <tr>\n",
       "      <th>2</th>\n",
       "      <td>4.48514</td>\n",
       "    </tr>\n",
       "    <tr>\n",
       "      <th>3</th>\n",
       "      <td>2.01887</td>\n",
       "    </tr>\n",
       "    <tr>\n",
       "      <th>4</th>\n",
       "      <td>3.68160</td>\n",
       "    </tr>\n",
       "    <tr>\n",
       "      <th>...</th>\n",
       "      <td>...</td>\n",
       "    </tr>\n",
       "    <tr>\n",
       "      <th>2946</th>\n",
       "      <td>2.91140</td>\n",
       "    </tr>\n",
       "    <tr>\n",
       "      <th>2947</th>\n",
       "      <td>2.67782</td>\n",
       "    </tr>\n",
       "    <tr>\n",
       "      <th>2948</th>\n",
       "      <td>2.40440</td>\n",
       "    </tr>\n",
       "    <tr>\n",
       "      <th>2949</th>\n",
       "      <td>3.39910</td>\n",
       "    </tr>\n",
       "    <tr>\n",
       "      <th>2950</th>\n",
       "      <td>5.51130</td>\n",
       "    </tr>\n",
       "  </tbody>\n",
       "</table>\n",
       "<p>2951 rows × 1 columns</p>\n",
       "</div>"
      ],
      "text/plain": [
       "         LogP\n",
       "0     3.57260\n",
       "1     3.53030\n",
       "2     4.48514\n",
       "3     2.01887\n",
       "4     3.68160\n",
       "...       ...\n",
       "2946  2.91140\n",
       "2947  2.67782\n",
       "2948  2.40440\n",
       "2949  3.39910\n",
       "2950  5.51130\n",
       "\n",
       "[2951 rows x 1 columns]"
      ]
     },
     "execution_count": 25,
     "metadata": {},
     "output_type": "execute_result"
    }
   ],
   "source": [
    "df_desc_X = df_LogP.drop(columns=['ChEMBL ID'])\n",
    "df_desc_X"
   ]
  },
  {
   "cell_type": "code",
   "execution_count": 26,
   "id": "6856f3be",
   "metadata": {},
   "outputs": [
    {
     "data": {
      "text/plain": [
       "0       10.000000\n",
       "1       10.000000\n",
       "2       10.000000\n",
       "3       10.000000\n",
       "4       10.000000\n",
       "          ...    \n",
       "2946     4.064397\n",
       "2947     4.026872\n",
       "2948     4.017715\n",
       "2949     4.002155\n",
       "2950     3.822795\n",
       "Name: pKi, Length: 2951, dtype: float64"
      ]
     },
     "execution_count": 26,
     "metadata": {},
     "output_type": "execute_result"
    }
   ],
   "source": [
    "df_desc_Y = df['pKi']\n",
    "df_desc_Y"
   ]
  },
  {
   "cell_type": "code",
   "execution_count": 27,
   "id": "91beea20",
   "metadata": {},
   "outputs": [
    {
     "data": {
      "text/html": [
       "<div>\n",
       "<style scoped>\n",
       "    .dataframe tbody tr th:only-of-type {\n",
       "        vertical-align: middle;\n",
       "    }\n",
       "\n",
       "    .dataframe tbody tr th {\n",
       "        vertical-align: top;\n",
       "    }\n",
       "\n",
       "    .dataframe thead th {\n",
       "        text-align: right;\n",
       "    }\n",
       "</style>\n",
       "<table border=\"1\" class=\"dataframe\">\n",
       "  <thead>\n",
       "    <tr style=\"text-align: right;\">\n",
       "      <th></th>\n",
       "      <th>LogP</th>\n",
       "      <th>pKi</th>\n",
       "    </tr>\n",
       "  </thead>\n",
       "  <tbody>\n",
       "    <tr>\n",
       "      <th>0</th>\n",
       "      <td>3.57260</td>\n",
       "      <td>10.000000</td>\n",
       "    </tr>\n",
       "    <tr>\n",
       "      <th>1</th>\n",
       "      <td>3.53030</td>\n",
       "      <td>10.000000</td>\n",
       "    </tr>\n",
       "    <tr>\n",
       "      <th>2</th>\n",
       "      <td>4.48514</td>\n",
       "      <td>10.000000</td>\n",
       "    </tr>\n",
       "    <tr>\n",
       "      <th>3</th>\n",
       "      <td>2.01887</td>\n",
       "      <td>10.000000</td>\n",
       "    </tr>\n",
       "    <tr>\n",
       "      <th>4</th>\n",
       "      <td>3.68160</td>\n",
       "      <td>10.000000</td>\n",
       "    </tr>\n",
       "    <tr>\n",
       "      <th>...</th>\n",
       "      <td>...</td>\n",
       "      <td>...</td>\n",
       "    </tr>\n",
       "    <tr>\n",
       "      <th>2946</th>\n",
       "      <td>2.91140</td>\n",
       "      <td>4.064397</td>\n",
       "    </tr>\n",
       "    <tr>\n",
       "      <th>2947</th>\n",
       "      <td>2.67782</td>\n",
       "      <td>4.026872</td>\n",
       "    </tr>\n",
       "    <tr>\n",
       "      <th>2948</th>\n",
       "      <td>2.40440</td>\n",
       "      <td>4.017715</td>\n",
       "    </tr>\n",
       "    <tr>\n",
       "      <th>2949</th>\n",
       "      <td>3.39910</td>\n",
       "      <td>4.002155</td>\n",
       "    </tr>\n",
       "    <tr>\n",
       "      <th>2950</th>\n",
       "      <td>5.51130</td>\n",
       "      <td>3.822795</td>\n",
       "    </tr>\n",
       "  </tbody>\n",
       "</table>\n",
       "<p>2951 rows × 2 columns</p>\n",
       "</div>"
      ],
      "text/plain": [
       "         LogP        pKi\n",
       "0     3.57260  10.000000\n",
       "1     3.53030  10.000000\n",
       "2     4.48514  10.000000\n",
       "3     2.01887  10.000000\n",
       "4     3.68160  10.000000\n",
       "...       ...        ...\n",
       "2946  2.91140   4.064397\n",
       "2947  2.67782   4.026872\n",
       "2948  2.40440   4.017715\n",
       "2949  3.39910   4.002155\n",
       "2950  5.51130   3.822795\n",
       "\n",
       "[2951 rows x 2 columns]"
      ]
     },
     "execution_count": 27,
     "metadata": {},
     "output_type": "execute_result"
    }
   ],
   "source": [
    "dataset = pd.concat([df_desc_X,df_desc_Y], axis=1)\n",
    "dataset"
   ]
  },
  {
   "cell_type": "code",
   "execution_count": 28,
   "id": "fea16a76",
   "metadata": {},
   "outputs": [],
   "source": [
    "dataset.to_csv('delta_data_final_2class_logp_pKi.csv', index=False)"
   ]
  },
  {
   "cell_type": "code",
   "execution_count": 12,
   "id": "d9abac4e",
   "metadata": {},
   "outputs": [],
   "source": [
    "import pandas as pd\n",
    "import seaborn as sns\n",
    "from sklearn.model_selection import train_test_split\n",
    "from sklearn.ensemble import RandomForestRegressor"
   ]
  },
  {
   "cell_type": "code",
   "execution_count": 29,
   "id": "9d18aed5",
   "metadata": {},
   "outputs": [
    {
     "data": {
      "text/html": [
       "<div>\n",
       "<style scoped>\n",
       "    .dataframe tbody tr th:only-of-type {\n",
       "        vertical-align: middle;\n",
       "    }\n",
       "\n",
       "    .dataframe tbody tr th {\n",
       "        vertical-align: top;\n",
       "    }\n",
       "\n",
       "    .dataframe thead th {\n",
       "        text-align: right;\n",
       "    }\n",
       "</style>\n",
       "<table border=\"1\" class=\"dataframe\">\n",
       "  <thead>\n",
       "    <tr style=\"text-align: right;\">\n",
       "      <th></th>\n",
       "      <th>LogP</th>\n",
       "      <th>pKi</th>\n",
       "    </tr>\n",
       "  </thead>\n",
       "  <tbody>\n",
       "    <tr>\n",
       "      <th>0</th>\n",
       "      <td>3.57260</td>\n",
       "      <td>10.000000</td>\n",
       "    </tr>\n",
       "    <tr>\n",
       "      <th>1</th>\n",
       "      <td>3.53030</td>\n",
       "      <td>10.000000</td>\n",
       "    </tr>\n",
       "    <tr>\n",
       "      <th>2</th>\n",
       "      <td>4.48514</td>\n",
       "      <td>10.000000</td>\n",
       "    </tr>\n",
       "    <tr>\n",
       "      <th>3</th>\n",
       "      <td>2.01887</td>\n",
       "      <td>10.000000</td>\n",
       "    </tr>\n",
       "    <tr>\n",
       "      <th>4</th>\n",
       "      <td>3.68160</td>\n",
       "      <td>10.000000</td>\n",
       "    </tr>\n",
       "    <tr>\n",
       "      <th>...</th>\n",
       "      <td>...</td>\n",
       "      <td>...</td>\n",
       "    </tr>\n",
       "    <tr>\n",
       "      <th>2946</th>\n",
       "      <td>2.91140</td>\n",
       "      <td>4.064397</td>\n",
       "    </tr>\n",
       "    <tr>\n",
       "      <th>2947</th>\n",
       "      <td>2.67782</td>\n",
       "      <td>4.026872</td>\n",
       "    </tr>\n",
       "    <tr>\n",
       "      <th>2948</th>\n",
       "      <td>2.40440</td>\n",
       "      <td>4.017715</td>\n",
       "    </tr>\n",
       "    <tr>\n",
       "      <th>2949</th>\n",
       "      <td>3.39910</td>\n",
       "      <td>4.002155</td>\n",
       "    </tr>\n",
       "    <tr>\n",
       "      <th>2950</th>\n",
       "      <td>5.51130</td>\n",
       "      <td>3.822795</td>\n",
       "    </tr>\n",
       "  </tbody>\n",
       "</table>\n",
       "<p>2951 rows × 2 columns</p>\n",
       "</div>"
      ],
      "text/plain": [
       "         LogP        pKi\n",
       "0     3.57260  10.000000\n",
       "1     3.53030  10.000000\n",
       "2     4.48514  10.000000\n",
       "3     2.01887  10.000000\n",
       "4     3.68160  10.000000\n",
       "...       ...        ...\n",
       "2946  2.91140   4.064397\n",
       "2947  2.67782   4.026872\n",
       "2948  2.40440   4.017715\n",
       "2949  3.39910   4.002155\n",
       "2950  5.51130   3.822795\n",
       "\n",
       "[2951 rows x 2 columns]"
      ]
     },
     "execution_count": 29,
     "metadata": {},
     "output_type": "execute_result"
    }
   ],
   "source": [
    "df_analysis = pd.read_csv('delta_data_final_2class_logp_pKi.csv')\n",
    "df_analysis"
   ]
  },
  {
   "cell_type": "code",
   "execution_count": 30,
   "id": "7dd6b3d7",
   "metadata": {},
   "outputs": [
    {
     "data": {
      "text/html": [
       "<div>\n",
       "<style scoped>\n",
       "    .dataframe tbody tr th:only-of-type {\n",
       "        vertical-align: middle;\n",
       "    }\n",
       "\n",
       "    .dataframe tbody tr th {\n",
       "        vertical-align: top;\n",
       "    }\n",
       "\n",
       "    .dataframe thead th {\n",
       "        text-align: right;\n",
       "    }\n",
       "</style>\n",
       "<table border=\"1\" class=\"dataframe\">\n",
       "  <thead>\n",
       "    <tr style=\"text-align: right;\">\n",
       "      <th></th>\n",
       "      <th>LogP</th>\n",
       "    </tr>\n",
       "  </thead>\n",
       "  <tbody>\n",
       "    <tr>\n",
       "      <th>0</th>\n",
       "      <td>3.57260</td>\n",
       "    </tr>\n",
       "    <tr>\n",
       "      <th>1</th>\n",
       "      <td>3.53030</td>\n",
       "    </tr>\n",
       "    <tr>\n",
       "      <th>2</th>\n",
       "      <td>4.48514</td>\n",
       "    </tr>\n",
       "    <tr>\n",
       "      <th>3</th>\n",
       "      <td>2.01887</td>\n",
       "    </tr>\n",
       "    <tr>\n",
       "      <th>4</th>\n",
       "      <td>3.68160</td>\n",
       "    </tr>\n",
       "    <tr>\n",
       "      <th>...</th>\n",
       "      <td>...</td>\n",
       "    </tr>\n",
       "    <tr>\n",
       "      <th>2946</th>\n",
       "      <td>2.91140</td>\n",
       "    </tr>\n",
       "    <tr>\n",
       "      <th>2947</th>\n",
       "      <td>2.67782</td>\n",
       "    </tr>\n",
       "    <tr>\n",
       "      <th>2948</th>\n",
       "      <td>2.40440</td>\n",
       "    </tr>\n",
       "    <tr>\n",
       "      <th>2949</th>\n",
       "      <td>3.39910</td>\n",
       "    </tr>\n",
       "    <tr>\n",
       "      <th>2950</th>\n",
       "      <td>5.51130</td>\n",
       "    </tr>\n",
       "  </tbody>\n",
       "</table>\n",
       "<p>2951 rows × 1 columns</p>\n",
       "</div>"
      ],
      "text/plain": [
       "         LogP\n",
       "0     3.57260\n",
       "1     3.53030\n",
       "2     4.48514\n",
       "3     2.01887\n",
       "4     3.68160\n",
       "...       ...\n",
       "2946  2.91140\n",
       "2947  2.67782\n",
       "2948  2.40440\n",
       "2949  3.39910\n",
       "2950  5.51130\n",
       "\n",
       "[2951 rows x 1 columns]"
      ]
     },
     "execution_count": 30,
     "metadata": {},
     "output_type": "execute_result"
    }
   ],
   "source": [
    "X = df_analysis.drop('pKi', axis=1)\n",
    "X"
   ]
  },
  {
   "cell_type": "code",
   "execution_count": 31,
   "id": "987db0b9",
   "metadata": {},
   "outputs": [
    {
     "data": {
      "text/plain": [
       "0       10.000000\n",
       "1       10.000000\n",
       "2       10.000000\n",
       "3       10.000000\n",
       "4       10.000000\n",
       "          ...    \n",
       "2946     4.064397\n",
       "2947     4.026872\n",
       "2948     4.017715\n",
       "2949     4.002155\n",
       "2950     3.822795\n",
       "Name: pKi, Length: 2951, dtype: float64"
      ]
     },
     "execution_count": 31,
     "metadata": {},
     "output_type": "execute_result"
    }
   ],
   "source": [
    "Y = df_analysis.pKi\n",
    "Y"
   ]
  },
  {
   "cell_type": "code",
   "execution_count": 32,
   "id": "55b1c751",
   "metadata": {},
   "outputs": [
    {
     "data": {
      "text/plain": [
       "(2951, 1)"
      ]
     },
     "execution_count": 32,
     "metadata": {},
     "output_type": "execute_result"
    }
   ],
   "source": [
    "X.shape"
   ]
  },
  {
   "cell_type": "code",
   "execution_count": 33,
   "id": "ac51c359",
   "metadata": {},
   "outputs": [
    {
     "data": {
      "text/plain": [
       "(2951,)"
      ]
     },
     "execution_count": 33,
     "metadata": {},
     "output_type": "execute_result"
    }
   ],
   "source": [
    "Y.shape"
   ]
  },
  {
   "cell_type": "code",
   "execution_count": 34,
   "id": "0e416b34",
   "metadata": {},
   "outputs": [],
   "source": [
    "X_train, X_test, Y_train, Y_test = train_test_split(X, Y, test_size=0.2)"
   ]
  },
  {
   "cell_type": "code",
   "execution_count": 35,
   "id": "a946a894",
   "metadata": {},
   "outputs": [
    {
     "data": {
      "text/plain": [
       "((2360, 1), (2360,))"
      ]
     },
     "execution_count": 35,
     "metadata": {},
     "output_type": "execute_result"
    }
   ],
   "source": [
    "X_train.shape, Y_train.shape"
   ]
  },
  {
   "cell_type": "code",
   "execution_count": 36,
   "id": "976dec77",
   "metadata": {},
   "outputs": [
    {
     "data": {
      "text/plain": [
       "((591, 1), (591,))"
      ]
     },
     "execution_count": 36,
     "metadata": {},
     "output_type": "execute_result"
    }
   ],
   "source": [
    "X_test.shape, Y_test.shape"
   ]
  },
  {
   "cell_type": "code",
   "execution_count": 37,
   "id": "978f7192",
   "metadata": {},
   "outputs": [
    {
     "data": {
      "text/plain": [
       "-0.20270279942882663"
      ]
     },
     "execution_count": 37,
     "metadata": {},
     "output_type": "execute_result"
    }
   ],
   "source": [
    "import numpy as np\n",
    "np.random.seed(100)\n",
    "model = RandomForestRegressor(n_estimators=100)\n",
    "model.fit(X_train, Y_train)\n",
    "r2 = model.score(X_test, Y_test)\n",
    "r2"
   ]
  },
  {
   "cell_type": "code",
   "execution_count": 38,
   "id": "2df724f9",
   "metadata": {},
   "outputs": [],
   "source": [
    "Y_pred = model.predict(X_test)"
   ]
  },
  {
   "cell_type": "code",
   "execution_count": 39,
   "id": "b569b715",
   "metadata": {},
   "outputs": [
    {
     "name": "stderr",
     "output_type": "stream",
     "text": [
      "C:\\Users\\Zizi\\anaconda3\\lib\\site-packages\\seaborn\\_decorators.py:36: FutureWarning: Pass the following variables as keyword args: x, y. From version 0.12, the only valid positional argument will be `data`, and passing other arguments without an explicit keyword will result in an error or misinterpretation.\n",
      "  warnings.warn(\n"
     ]
    },
    {
     "data": {
      "text/plain": [
       "<function matplotlib.pyplot.show(close=None, block=None)>"
      ]
     },
     "execution_count": 39,
     "metadata": {},
     "output_type": "execute_result"
    },
    {
     "data": {
      "image/png": "[encoded data removed]",
      "text/plain": [
       "<Figure size 360x360 with 1 Axes>"
      ]
     },
     "metadata": {},
     "output_type": "display_data"
    }
   ],
   "source": [
    "import seaborn as sns\n",
    "import matplotlib.pyplot as plt\n",
    "\n",
    "sns.set(color_codes=True)\n",
    "sns.set_style(\"white\")\n",
    "\n",
    "ax = sns.regplot(Y_test, Y_pred, scatter_kws={'alpha':0.4})\n",
    "ax.set_xlabel('Experimental pKi', fontsize='large', fontweight='bold')\n",
    "ax.set_ylabel('Predicted pKi', fontsize='large', fontweight='bold')\n",
    "ax.set_xlim(0, 12)\n",
    "ax.set_ylim(0, 12)\n",
    "ax.figure.set_size_inches(5, 5)\n",
    "plt.show"
   ]
  },
  {
   "cell_type": "code",
   "execution_count": 40,
   "id": "718a5d82",
   "metadata": {},
   "outputs": [
    {
     "data": {
      "text/plain": [
       "<Figure size 432x288 with 0 Axes>"
      ]
     },
     "metadata": {},
     "output_type": "display_data"
    }
   ],
   "source": [
    "plt.savefig('plot_LogP_pKi.pdf')"
   ]
  },
  {
   "cell_type": "code",
   "execution_count": 41,
   "id": "d4faa38e",
   "metadata": {},
   "outputs": [
    {
     "data": {
      "text/html": [
       "<div>\n",
       "<style scoped>\n",
       "    .dataframe tbody tr th:only-of-type {\n",
       "        vertical-align: middle;\n",
       "    }\n",
       "\n",
       "    .dataframe tbody tr th {\n",
       "        vertical-align: top;\n",
       "    }\n",
       "\n",
       "    .dataframe thead th {\n",
       "        text-align: right;\n",
       "    }\n",
       "</style>\n",
       "<table border=\"1\" class=\"dataframe\">\n",
       "  <thead>\n",
       "    <tr style=\"text-align: right;\">\n",
       "      <th></th>\n",
       "      <th>ChEMBL ID</th>\n",
       "      <th>NumHDonors</th>\n",
       "    </tr>\n",
       "  </thead>\n",
       "  <tbody>\n",
       "    <tr>\n",
       "      <th>0</th>\n",
       "      <td>CHEMBL567175</td>\n",
       "      <td>3.0</td>\n",
       "    </tr>\n",
       "    <tr>\n",
       "      <th>1</th>\n",
       "      <td>CHEMBL2113666</td>\n",
       "      <td>1.0</td>\n",
       "    </tr>\n",
       "    <tr>\n",
       "      <th>2</th>\n",
       "      <td>CHEMBL1649941</td>\n",
       "      <td>5.0</td>\n",
       "    </tr>\n",
       "    <tr>\n",
       "      <th>3</th>\n",
       "      <td>CHEMBL334715</td>\n",
       "      <td>8.0</td>\n",
       "    </tr>\n",
       "    <tr>\n",
       "      <th>4</th>\n",
       "      <td>CHEMBL3785854</td>\n",
       "      <td>3.0</td>\n",
       "    </tr>\n",
       "    <tr>\n",
       "      <th>...</th>\n",
       "      <td>...</td>\n",
       "      <td>...</td>\n",
       "    </tr>\n",
       "    <tr>\n",
       "      <th>2946</th>\n",
       "      <td>CHEMBL3698762</td>\n",
       "      <td>3.0</td>\n",
       "    </tr>\n",
       "    <tr>\n",
       "      <th>2947</th>\n",
       "      <td>CHEMBL1076554</td>\n",
       "      <td>1.0</td>\n",
       "    </tr>\n",
       "    <tr>\n",
       "      <th>2948</th>\n",
       "      <td>CHEMBL3695269</td>\n",
       "      <td>3.0</td>\n",
       "    </tr>\n",
       "    <tr>\n",
       "      <th>2949</th>\n",
       "      <td>CHEMBL233535</td>\n",
       "      <td>2.0</td>\n",
       "    </tr>\n",
       "    <tr>\n",
       "      <th>2950</th>\n",
       "      <td>CHEMBL241272</td>\n",
       "      <td>1.0</td>\n",
       "    </tr>\n",
       "  </tbody>\n",
       "</table>\n",
       "<p>2951 rows × 2 columns</p>\n",
       "</div>"
      ],
      "text/plain": [
       "          ChEMBL ID  NumHDonors\n",
       "0      CHEMBL567175         3.0\n",
       "1     CHEMBL2113666         1.0\n",
       "2     CHEMBL1649941         5.0\n",
       "3      CHEMBL334715         8.0\n",
       "4     CHEMBL3785854         3.0\n",
       "...             ...         ...\n",
       "2946  CHEMBL3698762         3.0\n",
       "2947  CHEMBL1076554         1.0\n",
       "2948  CHEMBL3695269         3.0\n",
       "2949   CHEMBL233535         2.0\n",
       "2950   CHEMBL241272         1.0\n",
       "\n",
       "[2951 rows x 2 columns]"
      ]
     },
     "execution_count": 41,
     "metadata": {},
     "output_type": "execute_result"
    }
   ],
   "source": [
    "selection_HD = ['ChEMBL ID', 'NumHDonors']\n",
    "df_HD = df[selection_HD]\n",
    "df_HD   "
   ]
  },
  {
   "cell_type": "code",
   "execution_count": 42,
   "id": "7af5bdbe",
   "metadata": {},
   "outputs": [
    {
     "data": {
      "text/html": [
       "<div>\n",
       "<style scoped>\n",
       "    .dataframe tbody tr th:only-of-type {\n",
       "        vertical-align: middle;\n",
       "    }\n",
       "\n",
       "    .dataframe tbody tr th {\n",
       "        vertical-align: top;\n",
       "    }\n",
       "\n",
       "    .dataframe thead th {\n",
       "        text-align: right;\n",
       "    }\n",
       "</style>\n",
       "<table border=\"1\" class=\"dataframe\">\n",
       "  <thead>\n",
       "    <tr style=\"text-align: right;\">\n",
       "      <th></th>\n",
       "      <th>ChEMBL ID</th>\n",
       "      <th>NumHDonors</th>\n",
       "    </tr>\n",
       "  </thead>\n",
       "  <tbody>\n",
       "    <tr>\n",
       "      <th>0</th>\n",
       "      <td>CHEMBL567175</td>\n",
       "      <td>3.0</td>\n",
       "    </tr>\n",
       "    <tr>\n",
       "      <th>1</th>\n",
       "      <td>CHEMBL2113666</td>\n",
       "      <td>1.0</td>\n",
       "    </tr>\n",
       "    <tr>\n",
       "      <th>2</th>\n",
       "      <td>CHEMBL1649941</td>\n",
       "      <td>5.0</td>\n",
       "    </tr>\n",
       "    <tr>\n",
       "      <th>3</th>\n",
       "      <td>CHEMBL334715</td>\n",
       "      <td>8.0</td>\n",
       "    </tr>\n",
       "    <tr>\n",
       "      <th>4</th>\n",
       "      <td>CHEMBL3785854</td>\n",
       "      <td>3.0</td>\n",
       "    </tr>\n",
       "    <tr>\n",
       "      <th>...</th>\n",
       "      <td>...</td>\n",
       "      <td>...</td>\n",
       "    </tr>\n",
       "    <tr>\n",
       "      <th>2946</th>\n",
       "      <td>CHEMBL3698762</td>\n",
       "      <td>3.0</td>\n",
       "    </tr>\n",
       "    <tr>\n",
       "      <th>2947</th>\n",
       "      <td>CHEMBL1076554</td>\n",
       "      <td>1.0</td>\n",
       "    </tr>\n",
       "    <tr>\n",
       "      <th>2948</th>\n",
       "      <td>CHEMBL3695269</td>\n",
       "      <td>3.0</td>\n",
       "    </tr>\n",
       "    <tr>\n",
       "      <th>2949</th>\n",
       "      <td>CHEMBL233535</td>\n",
       "      <td>2.0</td>\n",
       "    </tr>\n",
       "    <tr>\n",
       "      <th>2950</th>\n",
       "      <td>CHEMBL241272</td>\n",
       "      <td>1.0</td>\n",
       "    </tr>\n",
       "  </tbody>\n",
       "</table>\n",
       "<p>2951 rows × 2 columns</p>\n",
       "</div>"
      ],
      "text/plain": [
       "          ChEMBL ID  NumHDonors\n",
       "0      CHEMBL567175         3.0\n",
       "1     CHEMBL2113666         1.0\n",
       "2     CHEMBL1649941         5.0\n",
       "3      CHEMBL334715         8.0\n",
       "4     CHEMBL3785854         3.0\n",
       "...             ...         ...\n",
       "2946  CHEMBL3698762         3.0\n",
       "2947  CHEMBL1076554         1.0\n",
       "2948  CHEMBL3695269         3.0\n",
       "2949   CHEMBL233535         2.0\n",
       "2950   CHEMBL241272         1.0\n",
       "\n",
       "[2951 rows x 2 columns]"
      ]
     },
     "execution_count": 42,
     "metadata": {},
     "output_type": "execute_result"
    }
   ],
   "source": [
    "df_HD_X = df_HD\n",
    "df_HD_X"
   ]
  },
  {
   "cell_type": "code",
   "execution_count": 43,
   "id": "9ff25817",
   "metadata": {},
   "outputs": [
    {
     "data": {
      "text/html": [
       "<div>\n",
       "<style scoped>\n",
       "    .dataframe tbody tr th:only-of-type {\n",
       "        vertical-align: middle;\n",
       "    }\n",
       "\n",
       "    .dataframe tbody tr th {\n",
       "        vertical-align: top;\n",
       "    }\n",
       "\n",
       "    .dataframe thead th {\n",
       "        text-align: right;\n",
       "    }\n",
       "</style>\n",
       "<table border=\"1\" class=\"dataframe\">\n",
       "  <thead>\n",
       "    <tr style=\"text-align: right;\">\n",
       "      <th></th>\n",
       "      <th>NumHDonors</th>\n",
       "    </tr>\n",
       "  </thead>\n",
       "  <tbody>\n",
       "    <tr>\n",
       "      <th>0</th>\n",
       "      <td>3.0</td>\n",
       "    </tr>\n",
       "    <tr>\n",
       "      <th>1</th>\n",
       "      <td>1.0</td>\n",
       "    </tr>\n",
       "    <tr>\n",
       "      <th>2</th>\n",
       "      <td>5.0</td>\n",
       "    </tr>\n",
       "    <tr>\n",
       "      <th>3</th>\n",
       "      <td>8.0</td>\n",
       "    </tr>\n",
       "    <tr>\n",
       "      <th>4</th>\n",
       "      <td>3.0</td>\n",
       "    </tr>\n",
       "    <tr>\n",
       "      <th>...</th>\n",
       "      <td>...</td>\n",
       "    </tr>\n",
       "    <tr>\n",
       "      <th>2946</th>\n",
       "      <td>3.0</td>\n",
       "    </tr>\n",
       "    <tr>\n",
       "      <th>2947</th>\n",
       "      <td>1.0</td>\n",
       "    </tr>\n",
       "    <tr>\n",
       "      <th>2948</th>\n",
       "      <td>3.0</td>\n",
       "    </tr>\n",
       "    <tr>\n",
       "      <th>2949</th>\n",
       "      <td>2.0</td>\n",
       "    </tr>\n",
       "    <tr>\n",
       "      <th>2950</th>\n",
       "      <td>1.0</td>\n",
       "    </tr>\n",
       "  </tbody>\n",
       "</table>\n",
       "<p>2951 rows × 1 columns</p>\n",
       "</div>"
      ],
      "text/plain": [
       "      NumHDonors\n",
       "0            3.0\n",
       "1            1.0\n",
       "2            5.0\n",
       "3            8.0\n",
       "4            3.0\n",
       "...          ...\n",
       "2946         3.0\n",
       "2947         1.0\n",
       "2948         3.0\n",
       "2949         2.0\n",
       "2950         1.0\n",
       "\n",
       "[2951 rows x 1 columns]"
      ]
     },
     "execution_count": 43,
     "metadata": {},
     "output_type": "execute_result"
    }
   ],
   "source": [
    "df_HD_X = df_HD.drop(columns=['ChEMBL ID'])\n",
    "df_HD_X"
   ]
  },
  {
   "cell_type": "code",
   "execution_count": 46,
   "id": "d45cfeb7",
   "metadata": {},
   "outputs": [
    {
     "data": {
      "text/plain": [
       "0       10.000000\n",
       "1       10.000000\n",
       "2       10.000000\n",
       "3       10.000000\n",
       "4       10.000000\n",
       "          ...    \n",
       "2946     4.064397\n",
       "2947     4.026872\n",
       "2948     4.017715\n",
       "2949     4.002155\n",
       "2950     3.822795\n",
       "Name: pKi, Length: 2951, dtype: float64"
      ]
     },
     "execution_count": 46,
     "metadata": {},
     "output_type": "execute_result"
    }
   ],
   "source": [
    "df_HD_Y = df['pKi']\n",
    "df_HD_Y"
   ]
  },
  {
   "cell_type": "code",
   "execution_count": 47,
   "id": "e2d9f040",
   "metadata": {},
   "outputs": [
    {
     "data": {
      "text/html": [
       "<div>\n",
       "<style scoped>\n",
       "    .dataframe tbody tr th:only-of-type {\n",
       "        vertical-align: middle;\n",
       "    }\n",
       "\n",
       "    .dataframe tbody tr th {\n",
       "        vertical-align: top;\n",
       "    }\n",
       "\n",
       "    .dataframe thead th {\n",
       "        text-align: right;\n",
       "    }\n",
       "</style>\n",
       "<table border=\"1\" class=\"dataframe\">\n",
       "  <thead>\n",
       "    <tr style=\"text-align: right;\">\n",
       "      <th></th>\n",
       "      <th>NumHDonors</th>\n",
       "      <th>pKi</th>\n",
       "    </tr>\n",
       "  </thead>\n",
       "  <tbody>\n",
       "    <tr>\n",
       "      <th>0</th>\n",
       "      <td>3.0</td>\n",
       "      <td>10.000000</td>\n",
       "    </tr>\n",
       "    <tr>\n",
       "      <th>1</th>\n",
       "      <td>1.0</td>\n",
       "      <td>10.000000</td>\n",
       "    </tr>\n",
       "    <tr>\n",
       "      <th>2</th>\n",
       "      <td>5.0</td>\n",
       "      <td>10.000000</td>\n",
       "    </tr>\n",
       "    <tr>\n",
       "      <th>3</th>\n",
       "      <td>8.0</td>\n",
       "      <td>10.000000</td>\n",
       "    </tr>\n",
       "    <tr>\n",
       "      <th>4</th>\n",
       "      <td>3.0</td>\n",
       "      <td>10.000000</td>\n",
       "    </tr>\n",
       "    <tr>\n",
       "      <th>...</th>\n",
       "      <td>...</td>\n",
       "      <td>...</td>\n",
       "    </tr>\n",
       "    <tr>\n",
       "      <th>2946</th>\n",
       "      <td>3.0</td>\n",
       "      <td>4.064397</td>\n",
       "    </tr>\n",
       "    <tr>\n",
       "      <th>2947</th>\n",
       "      <td>1.0</td>\n",
       "      <td>4.026872</td>\n",
       "    </tr>\n",
       "    <tr>\n",
       "      <th>2948</th>\n",
       "      <td>3.0</td>\n",
       "      <td>4.017715</td>\n",
       "    </tr>\n",
       "    <tr>\n",
       "      <th>2949</th>\n",
       "      <td>2.0</td>\n",
       "      <td>4.002155</td>\n",
       "    </tr>\n",
       "    <tr>\n",
       "      <th>2950</th>\n",
       "      <td>1.0</td>\n",
       "      <td>3.822795</td>\n",
       "    </tr>\n",
       "  </tbody>\n",
       "</table>\n",
       "<p>2951 rows × 2 columns</p>\n",
       "</div>"
      ],
      "text/plain": [
       "      NumHDonors        pKi\n",
       "0            3.0  10.000000\n",
       "1            1.0  10.000000\n",
       "2            5.0  10.000000\n",
       "3            8.0  10.000000\n",
       "4            3.0  10.000000\n",
       "...          ...        ...\n",
       "2946         3.0   4.064397\n",
       "2947         1.0   4.026872\n",
       "2948         3.0   4.017715\n",
       "2949         2.0   4.002155\n",
       "2950         1.0   3.822795\n",
       "\n",
       "[2951 rows x 2 columns]"
      ]
     },
     "execution_count": 47,
     "metadata": {},
     "output_type": "execute_result"
    }
   ],
   "source": [
    "dataset_HD = pd.concat([df_HD_X,df_HD_Y], axis=1)\n",
    "dataset_HD"
   ]
  },
  {
   "cell_type": "code",
   "execution_count": 49,
   "id": "23042c9e",
   "metadata": {},
   "outputs": [],
   "source": [
    "dataset.to_csv('delta_data_final_2class_HD_pKi.csv', index=False)"
   ]
  },
  {
   "cell_type": "code",
   "execution_count": 50,
   "id": "2b170511",
   "metadata": {},
   "outputs": [
    {
     "data": {
      "text/html": [
       "<div>\n",
       "<style scoped>\n",
       "    .dataframe tbody tr th:only-of-type {\n",
       "        vertical-align: middle;\n",
       "    }\n",
       "\n",
       "    .dataframe tbody tr th {\n",
       "        vertical-align: top;\n",
       "    }\n",
       "\n",
       "    .dataframe thead th {\n",
       "        text-align: right;\n",
       "    }\n",
       "</style>\n",
       "<table border=\"1\" class=\"dataframe\">\n",
       "  <thead>\n",
       "    <tr style=\"text-align: right;\">\n",
       "      <th></th>\n",
       "      <th>LogP</th>\n",
       "      <th>pKi</th>\n",
       "    </tr>\n",
       "  </thead>\n",
       "  <tbody>\n",
       "    <tr>\n",
       "      <th>0</th>\n",
       "      <td>3.57260</td>\n",
       "      <td>10.000000</td>\n",
       "    </tr>\n",
       "    <tr>\n",
       "      <th>1</th>\n",
       "      <td>3.53030</td>\n",
       "      <td>10.000000</td>\n",
       "    </tr>\n",
       "    <tr>\n",
       "      <th>2</th>\n",
       "      <td>4.48514</td>\n",
       "      <td>10.000000</td>\n",
       "    </tr>\n",
       "    <tr>\n",
       "      <th>3</th>\n",
       "      <td>2.01887</td>\n",
       "      <td>10.000000</td>\n",
       "    </tr>\n",
       "    <tr>\n",
       "      <th>4</th>\n",
       "      <td>3.68160</td>\n",
       "      <td>10.000000</td>\n",
       "    </tr>\n",
       "    <tr>\n",
       "      <th>...</th>\n",
       "      <td>...</td>\n",
       "      <td>...</td>\n",
       "    </tr>\n",
       "    <tr>\n",
       "      <th>2946</th>\n",
       "      <td>2.91140</td>\n",
       "      <td>4.064397</td>\n",
       "    </tr>\n",
       "    <tr>\n",
       "      <th>2947</th>\n",
       "      <td>2.67782</td>\n",
       "      <td>4.026872</td>\n",
       "    </tr>\n",
       "    <tr>\n",
       "      <th>2948</th>\n",
       "      <td>2.40440</td>\n",
       "      <td>4.017715</td>\n",
       "    </tr>\n",
       "    <tr>\n",
       "      <th>2949</th>\n",
       "      <td>3.39910</td>\n",
       "      <td>4.002155</td>\n",
       "    </tr>\n",
       "    <tr>\n",
       "      <th>2950</th>\n",
       "      <td>5.51130</td>\n",
       "      <td>3.822795</td>\n",
       "    </tr>\n",
       "  </tbody>\n",
       "</table>\n",
       "<p>2951 rows × 2 columns</p>\n",
       "</div>"
      ],
      "text/plain": [
       "         LogP        pKi\n",
       "0     3.57260  10.000000\n",
       "1     3.53030  10.000000\n",
       "2     4.48514  10.000000\n",
       "3     2.01887  10.000000\n",
       "4     3.68160  10.000000\n",
       "...       ...        ...\n",
       "2946  2.91140   4.064397\n",
       "2947  2.67782   4.026872\n",
       "2948  2.40440   4.017715\n",
       "2949  3.39910   4.002155\n",
       "2950  5.51130   3.822795\n",
       "\n",
       "[2951 rows x 2 columns]"
      ]
     },
     "execution_count": 50,
     "metadata": {},
     "output_type": "execute_result"
    }
   ],
   "source": [
    "df_analysis_HD = pd.read_csv('delta_data_final_2class_HD_pKi.csv')\n",
    "df_analysis_HD"
   ]
  },
  {
   "cell_type": "code",
   "execution_count": 51,
   "id": "32a924e6",
   "metadata": {},
   "outputs": [
    {
     "data": {
      "text/html": [
       "<div>\n",
       "<style scoped>\n",
       "    .dataframe tbody tr th:only-of-type {\n",
       "        vertical-align: middle;\n",
       "    }\n",
       "\n",
       "    .dataframe tbody tr th {\n",
       "        vertical-align: top;\n",
       "    }\n",
       "\n",
       "    .dataframe thead th {\n",
       "        text-align: right;\n",
       "    }\n",
       "</style>\n",
       "<table border=\"1\" class=\"dataframe\">\n",
       "  <thead>\n",
       "    <tr style=\"text-align: right;\">\n",
       "      <th></th>\n",
       "      <th>LogP</th>\n",
       "    </tr>\n",
       "  </thead>\n",
       "  <tbody>\n",
       "    <tr>\n",
       "      <th>0</th>\n",
       "      <td>3.57260</td>\n",
       "    </tr>\n",
       "    <tr>\n",
       "      <th>1</th>\n",
       "      <td>3.53030</td>\n",
       "    </tr>\n",
       "    <tr>\n",
       "      <th>2</th>\n",
       "      <td>4.48514</td>\n",
       "    </tr>\n",
       "    <tr>\n",
       "      <th>3</th>\n",
       "      <td>2.01887</td>\n",
       "    </tr>\n",
       "    <tr>\n",
       "      <th>4</th>\n",
       "      <td>3.68160</td>\n",
       "    </tr>\n",
       "    <tr>\n",
       "      <th>...</th>\n",
       "      <td>...</td>\n",
       "    </tr>\n",
       "    <tr>\n",
       "      <th>2946</th>\n",
       "      <td>2.91140</td>\n",
       "    </tr>\n",
       "    <tr>\n",
       "      <th>2947</th>\n",
       "      <td>2.67782</td>\n",
       "    </tr>\n",
       "    <tr>\n",
       "      <th>2948</th>\n",
       "      <td>2.40440</td>\n",
       "    </tr>\n",
       "    <tr>\n",
       "      <th>2949</th>\n",
       "      <td>3.39910</td>\n",
       "    </tr>\n",
       "    <tr>\n",
       "      <th>2950</th>\n",
       "      <td>5.51130</td>\n",
       "    </tr>\n",
       "  </tbody>\n",
       "</table>\n",
       "<p>2951 rows × 1 columns</p>\n",
       "</div>"
      ],
      "text/plain": [
       "         LogP\n",
       "0     3.57260\n",
       "1     3.53030\n",
       "2     4.48514\n",
       "3     2.01887\n",
       "4     3.68160\n",
       "...       ...\n",
       "2946  2.91140\n",
       "2947  2.67782\n",
       "2948  2.40440\n",
       "2949  3.39910\n",
       "2950  5.51130\n",
       "\n",
       "[2951 rows x 1 columns]"
      ]
     },
     "execution_count": 51,
     "metadata": {},
     "output_type": "execute_result"
    }
   ],
   "source": [
    "X_HD = df_analysis_HD.drop('pKi', axis=1)\n",
    "X_HD"
   ]
  },
  {
   "cell_type": "code",
   "execution_count": 52,
   "id": "29081449",
   "metadata": {},
   "outputs": [
    {
     "data": {
      "text/plain": [
       "0       10.000000\n",
       "1       10.000000\n",
       "2       10.000000\n",
       "3       10.000000\n",
       "4       10.000000\n",
       "          ...    \n",
       "2946     4.064397\n",
       "2947     4.026872\n",
       "2948     4.017715\n",
       "2949     4.002155\n",
       "2950     3.822795\n",
       "Name: pKi, Length: 2951, dtype: float64"
      ]
     },
     "execution_count": 52,
     "metadata": {},
     "output_type": "execute_result"
    }
   ],
   "source": [
    "Y_HD = df_analysis_HD.pKi\n",
    "Y_HD"
   ]
  },
  {
   "cell_type": "code",
   "execution_count": 53,
   "id": "1cf44efd",
   "metadata": {},
   "outputs": [
    {
     "data": {
      "text/plain": [
       "(2951, 1)"
      ]
     },
     "execution_count": 53,
     "metadata": {},
     "output_type": "execute_result"
    }
   ],
   "source": [
    "X_HD.shape\n"
   ]
  },
  {
   "cell_type": "code",
   "execution_count": 54,
   "id": "715cc547",
   "metadata": {},
   "outputs": [
    {
     "data": {
      "text/plain": [
       "(2951,)"
      ]
     },
     "execution_count": 54,
     "metadata": {},
     "output_type": "execute_result"
    }
   ],
   "source": [
    "Y_HD.shape\n"
   ]
  },
  {
   "cell_type": "code",
   "execution_count": 55,
   "id": "509c6760",
   "metadata": {},
   "outputs": [],
   "source": [
    "X_train, X_test, Y_train, Y_test = train_test_split(X_HD, Y_HD, test_size=0.2)"
   ]
  },
  {
   "cell_type": "code",
   "execution_count": 56,
   "id": "f436d56e",
   "metadata": {},
   "outputs": [
    {
     "data": {
      "text/plain": [
       "((2360, 1), (2360,))"
      ]
     },
     "execution_count": 56,
     "metadata": {},
     "output_type": "execute_result"
    }
   ],
   "source": [
    "X_train.shape, Y_train.shape"
   ]
  },
  {
   "cell_type": "code",
   "execution_count": 57,
   "id": "57c45b40",
   "metadata": {},
   "outputs": [
    {
     "data": {
      "text/plain": [
       "((591, 1), (591,))"
      ]
     },
     "execution_count": 57,
     "metadata": {},
     "output_type": "execute_result"
    }
   ],
   "source": [
    "X_test.shape, Y_test.shape"
   ]
  },
  {
   "cell_type": "code",
   "execution_count": 58,
   "id": "8939ddf3",
   "metadata": {},
   "outputs": [
    {
     "data": {
      "text/plain": [
       "-0.193740401204054"
      ]
     },
     "execution_count": 58,
     "metadata": {},
     "output_type": "execute_result"
    }
   ],
   "source": [
    "import numpy as np\n",
    "np.random.seed(100)\n",
    "model = RandomForestRegressor(n_estimators=100)\n",
    "model.fit(X_train, Y_train)\n",
    "r2 = model.score(X_test, Y_test)\n",
    "r2"
   ]
  },
  {
   "cell_type": "code",
   "execution_count": 59,
   "id": "1a6f4133",
   "metadata": {},
   "outputs": [],
   "source": [
    "Y_pred = model.predict(X_test)"
   ]
  },
  {
   "cell_type": "code",
   "execution_count": 60,
   "id": "f78fa038",
   "metadata": {},
   "outputs": [
    {
     "name": "stderr",
     "output_type": "stream",
     "text": [
      "C:\\Users\\Zizi\\anaconda3\\lib\\site-packages\\seaborn\\_decorators.py:36: FutureWarning: Pass the following variables as keyword args: x, y. From version 0.12, the only valid positional argument will be `data`, and passing other arguments without an explicit keyword will result in an error or misinterpretation.\n",
      "  warnings.warn(\n"
     ]
    },
    {
     "data": {
      "text/plain": [
       "<function matplotlib.pyplot.show(close=None, block=None)>"
      ]
     },
     "execution_count": 60,
     "metadata": {},
     "output_type": "execute_result"
    },
    {
     "data": {
      "image/png": "[encoded data removed]",
      "text/plain": [
       "<Figure size 360x360 with 1 Axes>"
      ]
     },
     "metadata": {},
     "output_type": "display_data"
    }
   ],
   "source": [
    "import seaborn as sns\n",
    "import matplotlib.pyplot as plt\n",
    "\n",
    "sns.set(color_codes=True)\n",
    "sns.set_style(\"white\")\n",
    "\n",
    "ax = sns.regplot(Y_test, Y_pred, scatter_kws={'alpha':0.4})\n",
    "ax.set_xlabel('Experimental pKi', fontsize='large', fontweight='bold')\n",
    "ax.set_ylabel('Predicted pKi', fontsize='large', fontweight='bold')\n",
    "ax.set_xlim(0, 12)\n",
    "ax.set_ylim(0, 12)\n",
    "ax.figure.set_size_inches(5, 5)\n",
    "plt.show"
   ]
  },
  {
   "cell_type": "code",
   "execution_count": 61,
   "id": "cb6beeea",
   "metadata": {},
   "outputs": [
    {
     "data": {
      "text/plain": [
       "<Figure size 432x288 with 0 Axes>"
      ]
     },
     "metadata": {},
     "output_type": "display_data"
    }
   ],
   "source": [
    "plt.savefig('plot_HD_pKi.pdf')"
   ]
  },
  {
   "cell_type": "code",
   "execution_count": 62,
   "id": "785a62a6",
   "metadata": {},
   "outputs": [
    {
     "data": {
      "text/html": [
       "<div>\n",
       "<style scoped>\n",
       "    .dataframe tbody tr th:only-of-type {\n",
       "        vertical-align: middle;\n",
       "    }\n",
       "\n",
       "    .dataframe tbody tr th {\n",
       "        vertical-align: top;\n",
       "    }\n",
       "\n",
       "    .dataframe thead th {\n",
       "        text-align: right;\n",
       "    }\n",
       "</style>\n",
       "<table border=\"1\" class=\"dataframe\">\n",
       "  <thead>\n",
       "    <tr style=\"text-align: right;\">\n",
       "      <th></th>\n",
       "      <th>ChEMBL ID</th>\n",
       "      <th>NumHAcceptors</th>\n",
       "    </tr>\n",
       "  </thead>\n",
       "  <tbody>\n",
       "    <tr>\n",
       "      <th>0</th>\n",
       "      <td>CHEMBL567175</td>\n",
       "      <td>4.0</td>\n",
       "    </tr>\n",
       "    <tr>\n",
       "      <th>1</th>\n",
       "      <td>CHEMBL2113666</td>\n",
       "      <td>4.0</td>\n",
       "    </tr>\n",
       "    <tr>\n",
       "      <th>2</th>\n",
       "      <td>CHEMBL1649941</td>\n",
       "      <td>7.0</td>\n",
       "    </tr>\n",
       "    <tr>\n",
       "      <th>3</th>\n",
       "      <td>CHEMBL334715</td>\n",
       "      <td>7.0</td>\n",
       "    </tr>\n",
       "    <tr>\n",
       "      <th>4</th>\n",
       "      <td>CHEMBL3785854</td>\n",
       "      <td>3.0</td>\n",
       "    </tr>\n",
       "    <tr>\n",
       "      <th>...</th>\n",
       "      <td>...</td>\n",
       "      <td>...</td>\n",
       "    </tr>\n",
       "    <tr>\n",
       "      <th>2946</th>\n",
       "      <td>CHEMBL3698762</td>\n",
       "      <td>7.0</td>\n",
       "    </tr>\n",
       "    <tr>\n",
       "      <th>2947</th>\n",
       "      <td>CHEMBL1076554</td>\n",
       "      <td>3.0</td>\n",
       "    </tr>\n",
       "    <tr>\n",
       "      <th>2948</th>\n",
       "      <td>CHEMBL3695269</td>\n",
       "      <td>7.0</td>\n",
       "    </tr>\n",
       "    <tr>\n",
       "      <th>2949</th>\n",
       "      <td>CHEMBL233535</td>\n",
       "      <td>3.0</td>\n",
       "    </tr>\n",
       "    <tr>\n",
       "      <th>2950</th>\n",
       "      <td>CHEMBL241272</td>\n",
       "      <td>3.0</td>\n",
       "    </tr>\n",
       "  </tbody>\n",
       "</table>\n",
       "<p>2951 rows × 2 columns</p>\n",
       "</div>"
      ],
      "text/plain": [
       "          ChEMBL ID  NumHAcceptors\n",
       "0      CHEMBL567175            4.0\n",
       "1     CHEMBL2113666            4.0\n",
       "2     CHEMBL1649941            7.0\n",
       "3      CHEMBL334715            7.0\n",
       "4     CHEMBL3785854            3.0\n",
       "...             ...            ...\n",
       "2946  CHEMBL3698762            7.0\n",
       "2947  CHEMBL1076554            3.0\n",
       "2948  CHEMBL3695269            7.0\n",
       "2949   CHEMBL233535            3.0\n",
       "2950   CHEMBL241272            3.0\n",
       "\n",
       "[2951 rows x 2 columns]"
      ]
     },
     "execution_count": 62,
     "metadata": {},
     "output_type": "execute_result"
    }
   ],
   "source": [
    "selection_HA = ['ChEMBL ID', 'NumHAcceptors']\n",
    "df_HA = df[selection_HA]\n",
    "df_HA   "
   ]
  },
  {
   "cell_type": "code",
   "execution_count": 63,
   "id": "e06a21b8",
   "metadata": {},
   "outputs": [
    {
     "data": {
      "text/html": [
       "<div>\n",
       "<style scoped>\n",
       "    .dataframe tbody tr th:only-of-type {\n",
       "        vertical-align: middle;\n",
       "    }\n",
       "\n",
       "    .dataframe tbody tr th {\n",
       "        vertical-align: top;\n",
       "    }\n",
       "\n",
       "    .dataframe thead th {\n",
       "        text-align: right;\n",
       "    }\n",
       "</style>\n",
       "<table border=\"1\" class=\"dataframe\">\n",
       "  <thead>\n",
       "    <tr style=\"text-align: right;\">\n",
       "      <th></th>\n",
       "      <th>ChEMBL ID</th>\n",
       "      <th>NumHAcceptors</th>\n",
       "    </tr>\n",
       "  </thead>\n",
       "  <tbody>\n",
       "    <tr>\n",
       "      <th>0</th>\n",
       "      <td>CHEMBL567175</td>\n",
       "      <td>4.0</td>\n",
       "    </tr>\n",
       "    <tr>\n",
       "      <th>1</th>\n",
       "      <td>CHEMBL2113666</td>\n",
       "      <td>4.0</td>\n",
       "    </tr>\n",
       "    <tr>\n",
       "      <th>2</th>\n",
       "      <td>CHEMBL1649941</td>\n",
       "      <td>7.0</td>\n",
       "    </tr>\n",
       "    <tr>\n",
       "      <th>3</th>\n",
       "      <td>CHEMBL334715</td>\n",
       "      <td>7.0</td>\n",
       "    </tr>\n",
       "    <tr>\n",
       "      <th>4</th>\n",
       "      <td>CHEMBL3785854</td>\n",
       "      <td>3.0</td>\n",
       "    </tr>\n",
       "    <tr>\n",
       "      <th>...</th>\n",
       "      <td>...</td>\n",
       "      <td>...</td>\n",
       "    </tr>\n",
       "    <tr>\n",
       "      <th>2946</th>\n",
       "      <td>CHEMBL3698762</td>\n",
       "      <td>7.0</td>\n",
       "    </tr>\n",
       "    <tr>\n",
       "      <th>2947</th>\n",
       "      <td>CHEMBL1076554</td>\n",
       "      <td>3.0</td>\n",
       "    </tr>\n",
       "    <tr>\n",
       "      <th>2948</th>\n",
       "      <td>CHEMBL3695269</td>\n",
       "      <td>7.0</td>\n",
       "    </tr>\n",
       "    <tr>\n",
       "      <th>2949</th>\n",
       "      <td>CHEMBL233535</td>\n",
       "      <td>3.0</td>\n",
       "    </tr>\n",
       "    <tr>\n",
       "      <th>2950</th>\n",
       "      <td>CHEMBL241272</td>\n",
       "      <td>3.0</td>\n",
       "    </tr>\n",
       "  </tbody>\n",
       "</table>\n",
       "<p>2951 rows × 2 columns</p>\n",
       "</div>"
      ],
      "text/plain": [
       "          ChEMBL ID  NumHAcceptors\n",
       "0      CHEMBL567175            4.0\n",
       "1     CHEMBL2113666            4.0\n",
       "2     CHEMBL1649941            7.0\n",
       "3      CHEMBL334715            7.0\n",
       "4     CHEMBL3785854            3.0\n",
       "...             ...            ...\n",
       "2946  CHEMBL3698762            7.0\n",
       "2947  CHEMBL1076554            3.0\n",
       "2948  CHEMBL3695269            7.0\n",
       "2949   CHEMBL233535            3.0\n",
       "2950   CHEMBL241272            3.0\n",
       "\n",
       "[2951 rows x 2 columns]"
      ]
     },
     "execution_count": 63,
     "metadata": {},
     "output_type": "execute_result"
    }
   ],
   "source": [
    "df_HA_X = df_HA\n",
    "df_HA_X"
   ]
  },
  {
   "cell_type": "code",
   "execution_count": 64,
   "id": "4bbb4d70",
   "metadata": {},
   "outputs": [
    {
     "data": {
      "text/html": [
       "<div>\n",
       "<style scoped>\n",
       "    .dataframe tbody tr th:only-of-type {\n",
       "        vertical-align: middle;\n",
       "    }\n",
       "\n",
       "    .dataframe tbody tr th {\n",
       "        vertical-align: top;\n",
       "    }\n",
       "\n",
       "    .dataframe thead th {\n",
       "        text-align: right;\n",
       "    }\n",
       "</style>\n",
       "<table border=\"1\" class=\"dataframe\">\n",
       "  <thead>\n",
       "    <tr style=\"text-align: right;\">\n",
       "      <th></th>\n",
       "      <th>NumHAcceptors</th>\n",
       "    </tr>\n",
       "  </thead>\n",
       "  <tbody>\n",
       "    <tr>\n",
       "      <th>0</th>\n",
       "      <td>4.0</td>\n",
       "    </tr>\n",
       "    <tr>\n",
       "      <th>1</th>\n",
       "      <td>4.0</td>\n",
       "    </tr>\n",
       "    <tr>\n",
       "      <th>2</th>\n",
       "      <td>7.0</td>\n",
       "    </tr>\n",
       "    <tr>\n",
       "      <th>3</th>\n",
       "      <td>7.0</td>\n",
       "    </tr>\n",
       "    <tr>\n",
       "      <th>4</th>\n",
       "      <td>3.0</td>\n",
       "    </tr>\n",
       "    <tr>\n",
       "      <th>...</th>\n",
       "      <td>...</td>\n",
       "    </tr>\n",
       "    <tr>\n",
       "      <th>2946</th>\n",
       "      <td>7.0</td>\n",
       "    </tr>\n",
       "    <tr>\n",
       "      <th>2947</th>\n",
       "      <td>3.0</td>\n",
       "    </tr>\n",
       "    <tr>\n",
       "      <th>2948</th>\n",
       "      <td>7.0</td>\n",
       "    </tr>\n",
       "    <tr>\n",
       "      <th>2949</th>\n",
       "      <td>3.0</td>\n",
       "    </tr>\n",
       "    <tr>\n",
       "      <th>2950</th>\n",
       "      <td>3.0</td>\n",
       "    </tr>\n",
       "  </tbody>\n",
       "</table>\n",
       "<p>2951 rows × 1 columns</p>\n",
       "</div>"
      ],
      "text/plain": [
       "      NumHAcceptors\n",
       "0               4.0\n",
       "1               4.0\n",
       "2               7.0\n",
       "3               7.0\n",
       "4               3.0\n",
       "...             ...\n",
       "2946            7.0\n",
       "2947            3.0\n",
       "2948            7.0\n",
       "2949            3.0\n",
       "2950            3.0\n",
       "\n",
       "[2951 rows x 1 columns]"
      ]
     },
     "execution_count": 64,
     "metadata": {},
     "output_type": "execute_result"
    }
   ],
   "source": [
    "df_HA_X = df_HA.drop(columns=['ChEMBL ID'])\n",
    "df_HA_X"
   ]
  },
  {
   "cell_type": "code",
   "execution_count": 65,
   "id": "6ad025b8",
   "metadata": {},
   "outputs": [
    {
     "data": {
      "text/plain": [
       "0       10.000000\n",
       "1       10.000000\n",
       "2       10.000000\n",
       "3       10.000000\n",
       "4       10.000000\n",
       "          ...    \n",
       "2946     4.064397\n",
       "2947     4.026872\n",
       "2948     4.017715\n",
       "2949     4.002155\n",
       "2950     3.822795\n",
       "Name: pKi, Length: 2951, dtype: float64"
      ]
     },
     "execution_count": 65,
     "metadata": {},
     "output_type": "execute_result"
    }
   ],
   "source": [
    "df_HA_Y = df['pKi']\n",
    "df_HA_Y"
   ]
  },
  {
   "cell_type": "code",
   "execution_count": 66,
   "id": "3ac27ebc",
   "metadata": {},
   "outputs": [
    {
     "data": {
      "text/html": [
       "<div>\n",
       "<style scoped>\n",
       "    .dataframe tbody tr th:only-of-type {\n",
       "        vertical-align: middle;\n",
       "    }\n",
       "\n",
       "    .dataframe tbody tr th {\n",
       "        vertical-align: top;\n",
       "    }\n",
       "\n",
       "    .dataframe thead th {\n",
       "        text-align: right;\n",
       "    }\n",
       "</style>\n",
       "<table border=\"1\" class=\"dataframe\">\n",
       "  <thead>\n",
       "    <tr style=\"text-align: right;\">\n",
       "      <th></th>\n",
       "      <th>NumHAcceptors</th>\n",
       "      <th>pKi</th>\n",
       "    </tr>\n",
       "  </thead>\n",
       "  <tbody>\n",
       "    <tr>\n",
       "      <th>0</th>\n",
       "      <td>4.0</td>\n",
       "      <td>10.000000</td>\n",
       "    </tr>\n",
       "    <tr>\n",
       "      <th>1</th>\n",
       "      <td>4.0</td>\n",
       "      <td>10.000000</td>\n",
       "    </tr>\n",
       "    <tr>\n",
       "      <th>2</th>\n",
       "      <td>7.0</td>\n",
       "      <td>10.000000</td>\n",
       "    </tr>\n",
       "    <tr>\n",
       "      <th>3</th>\n",
       "      <td>7.0</td>\n",
       "      <td>10.000000</td>\n",
       "    </tr>\n",
       "    <tr>\n",
       "      <th>4</th>\n",
       "      <td>3.0</td>\n",
       "      <td>10.000000</td>\n",
       "    </tr>\n",
       "    <tr>\n",
       "      <th>...</th>\n",
       "      <td>...</td>\n",
       "      <td>...</td>\n",
       "    </tr>\n",
       "    <tr>\n",
       "      <th>2946</th>\n",
       "      <td>7.0</td>\n",
       "      <td>4.064397</td>\n",
       "    </tr>\n",
       "    <tr>\n",
       "      <th>2947</th>\n",
       "      <td>3.0</td>\n",
       "      <td>4.026872</td>\n",
       "    </tr>\n",
       "    <tr>\n",
       "      <th>2948</th>\n",
       "      <td>7.0</td>\n",
       "      <td>4.017715</td>\n",
       "    </tr>\n",
       "    <tr>\n",
       "      <th>2949</th>\n",
       "      <td>3.0</td>\n",
       "      <td>4.002155</td>\n",
       "    </tr>\n",
       "    <tr>\n",
       "      <th>2950</th>\n",
       "      <td>3.0</td>\n",
       "      <td>3.822795</td>\n",
       "    </tr>\n",
       "  </tbody>\n",
       "</table>\n",
       "<p>2951 rows × 2 columns</p>\n",
       "</div>"
      ],
      "text/plain": [
       "      NumHAcceptors        pKi\n",
       "0               4.0  10.000000\n",
       "1               4.0  10.000000\n",
       "2               7.0  10.000000\n",
       "3               7.0  10.000000\n",
       "4               3.0  10.000000\n",
       "...             ...        ...\n",
       "2946            7.0   4.064397\n",
       "2947            3.0   4.026872\n",
       "2948            7.0   4.017715\n",
       "2949            3.0   4.002155\n",
       "2950            3.0   3.822795\n",
       "\n",
       "[2951 rows x 2 columns]"
      ]
     },
     "execution_count": 66,
     "metadata": {},
     "output_type": "execute_result"
    }
   ],
   "source": [
    "dataset_HA = pd.concat([df_HA_X,df_HA_Y], axis=1)\n",
    "dataset_HA"
   ]
  },
  {
   "cell_type": "code",
   "execution_count": 67,
   "id": "88ec898c",
   "metadata": {},
   "outputs": [],
   "source": [
    "dataset.to_csv('delta_data_final_2class_HA_pKi.csv', index=False)"
   ]
  },
  {
   "cell_type": "code",
   "execution_count": 68,
   "id": "bd6a6f3b",
   "metadata": {},
   "outputs": [
    {
     "data": {
      "text/html": [
       "<div>\n",
       "<style scoped>\n",
       "    .dataframe tbody tr th:only-of-type {\n",
       "        vertical-align: middle;\n",
       "    }\n",
       "\n",
       "    .dataframe tbody tr th {\n",
       "        vertical-align: top;\n",
       "    }\n",
       "\n",
       "    .dataframe thead th {\n",
       "        text-align: right;\n",
       "    }\n",
       "</style>\n",
       "<table border=\"1\" class=\"dataframe\">\n",
       "  <thead>\n",
       "    <tr style=\"text-align: right;\">\n",
       "      <th></th>\n",
       "      <th>LogP</th>\n",
       "      <th>pKi</th>\n",
       "    </tr>\n",
       "  </thead>\n",
       "  <tbody>\n",
       "    <tr>\n",
       "      <th>0</th>\n",
       "      <td>3.57260</td>\n",
       "      <td>10.000000</td>\n",
       "    </tr>\n",
       "    <tr>\n",
       "      <th>1</th>\n",
       "      <td>3.53030</td>\n",
       "      <td>10.000000</td>\n",
       "    </tr>\n",
       "    <tr>\n",
       "      <th>2</th>\n",
       "      <td>4.48514</td>\n",
       "      <td>10.000000</td>\n",
       "    </tr>\n",
       "    <tr>\n",
       "      <th>3</th>\n",
       "      <td>2.01887</td>\n",
       "      <td>10.000000</td>\n",
       "    </tr>\n",
       "    <tr>\n",
       "      <th>4</th>\n",
       "      <td>3.68160</td>\n",
       "      <td>10.000000</td>\n",
       "    </tr>\n",
       "    <tr>\n",
       "      <th>...</th>\n",
       "      <td>...</td>\n",
       "      <td>...</td>\n",
       "    </tr>\n",
       "    <tr>\n",
       "      <th>2946</th>\n",
       "      <td>2.91140</td>\n",
       "      <td>4.064397</td>\n",
       "    </tr>\n",
       "    <tr>\n",
       "      <th>2947</th>\n",
       "      <td>2.67782</td>\n",
       "      <td>4.026872</td>\n",
       "    </tr>\n",
       "    <tr>\n",
       "      <th>2948</th>\n",
       "      <td>2.40440</td>\n",
       "      <td>4.017715</td>\n",
       "    </tr>\n",
       "    <tr>\n",
       "      <th>2949</th>\n",
       "      <td>3.39910</td>\n",
       "      <td>4.002155</td>\n",
       "    </tr>\n",
       "    <tr>\n",
       "      <th>2950</th>\n",
       "      <td>5.51130</td>\n",
       "      <td>3.822795</td>\n",
       "    </tr>\n",
       "  </tbody>\n",
       "</table>\n",
       "<p>2951 rows × 2 columns</p>\n",
       "</div>"
      ],
      "text/plain": [
       "         LogP        pKi\n",
       "0     3.57260  10.000000\n",
       "1     3.53030  10.000000\n",
       "2     4.48514  10.000000\n",
       "3     2.01887  10.000000\n",
       "4     3.68160  10.000000\n",
       "...       ...        ...\n",
       "2946  2.91140   4.064397\n",
       "2947  2.67782   4.026872\n",
       "2948  2.40440   4.017715\n",
       "2949  3.39910   4.002155\n",
       "2950  5.51130   3.822795\n",
       "\n",
       "[2951 rows x 2 columns]"
      ]
     },
     "execution_count": 68,
     "metadata": {},
     "output_type": "execute_result"
    }
   ],
   "source": [
    "df_analysis_HA = pd.read_csv('delta_data_final_2class_HA_pKi.csv')\n",
    "df_analysis_HA"
   ]
  },
  {
   "cell_type": "code",
   "execution_count": 69,
   "id": "716ede6e",
   "metadata": {},
   "outputs": [
    {
     "data": {
      "text/html": [
       "<div>\n",
       "<style scoped>\n",
       "    .dataframe tbody tr th:only-of-type {\n",
       "        vertical-align: middle;\n",
       "    }\n",
       "\n",
       "    .dataframe tbody tr th {\n",
       "        vertical-align: top;\n",
       "    }\n",
       "\n",
       "    .dataframe thead th {\n",
       "        text-align: right;\n",
       "    }\n",
       "</style>\n",
       "<table border=\"1\" class=\"dataframe\">\n",
       "  <thead>\n",
       "    <tr style=\"text-align: right;\">\n",
       "      <th></th>\n",
       "      <th>LogP</th>\n",
       "    </tr>\n",
       "  </thead>\n",
       "  <tbody>\n",
       "    <tr>\n",
       "      <th>0</th>\n",
       "      <td>3.57260</td>\n",
       "    </tr>\n",
       "    <tr>\n",
       "      <th>1</th>\n",
       "      <td>3.53030</td>\n",
       "    </tr>\n",
       "    <tr>\n",
       "      <th>2</th>\n",
       "      <td>4.48514</td>\n",
       "    </tr>\n",
       "    <tr>\n",
       "      <th>3</th>\n",
       "      <td>2.01887</td>\n",
       "    </tr>\n",
       "    <tr>\n",
       "      <th>4</th>\n",
       "      <td>3.68160</td>\n",
       "    </tr>\n",
       "    <tr>\n",
       "      <th>...</th>\n",
       "      <td>...</td>\n",
       "    </tr>\n",
       "    <tr>\n",
       "      <th>2946</th>\n",
       "      <td>2.91140</td>\n",
       "    </tr>\n",
       "    <tr>\n",
       "      <th>2947</th>\n",
       "      <td>2.67782</td>\n",
       "    </tr>\n",
       "    <tr>\n",
       "      <th>2948</th>\n",
       "      <td>2.40440</td>\n",
       "    </tr>\n",
       "    <tr>\n",
       "      <th>2949</th>\n",
       "      <td>3.39910</td>\n",
       "    </tr>\n",
       "    <tr>\n",
       "      <th>2950</th>\n",
       "      <td>5.51130</td>\n",
       "    </tr>\n",
       "  </tbody>\n",
       "</table>\n",
       "<p>2951 rows × 1 columns</p>\n",
       "</div>"
      ],
      "text/plain": [
       "         LogP\n",
       "0     3.57260\n",
       "1     3.53030\n",
       "2     4.48514\n",
       "3     2.01887\n",
       "4     3.68160\n",
       "...       ...\n",
       "2946  2.91140\n",
       "2947  2.67782\n",
       "2948  2.40440\n",
       "2949  3.39910\n",
       "2950  5.51130\n",
       "\n",
       "[2951 rows x 1 columns]"
      ]
     },
     "execution_count": 69,
     "metadata": {},
     "output_type": "execute_result"
    }
   ],
   "source": [
    "X_HA = df_analysis_HA.drop('pKi', axis=1)\n",
    "X_HA"
   ]
  },
  {
   "cell_type": "code",
   "execution_count": 70,
   "id": "75beed61",
   "metadata": {},
   "outputs": [
    {
     "data": {
      "text/plain": [
       "0       10.000000\n",
       "1       10.000000\n",
       "2       10.000000\n",
       "3       10.000000\n",
       "4       10.000000\n",
       "          ...    \n",
       "2946     4.064397\n",
       "2947     4.026872\n",
       "2948     4.017715\n",
       "2949     4.002155\n",
       "2950     3.822795\n",
       "Name: pKi, Length: 2951, dtype: float64"
      ]
     },
     "execution_count": 70,
     "metadata": {},
     "output_type": "execute_result"
    }
   ],
   "source": [
    "Y_HA = df_analysis_HA.pKi\n",
    "Y_HA"
   ]
  },
  {
   "cell_type": "code",
   "execution_count": 80,
   "id": "a4f8bbff",
   "metadata": {},
   "outputs": [
    {
     "data": {
      "text/plain": [
       "(2951, 1)"
      ]
     },
     "execution_count": 80,
     "metadata": {},
     "output_type": "execute_result"
    }
   ],
   "source": [
    "X_HA.shape"
   ]
  },
  {
   "cell_type": "code",
   "execution_count": 81,
   "id": "bda72f15",
   "metadata": {},
   "outputs": [
    {
     "data": {
      "text/plain": [
       "(2951,)"
      ]
     },
     "execution_count": 81,
     "metadata": {},
     "output_type": "execute_result"
    }
   ],
   "source": [
    "Y_HA.shape"
   ]
  },
  {
   "cell_type": "code",
   "execution_count": 77,
   "id": "ef9bc97f",
   "metadata": {},
   "outputs": [],
   "source": [
    "X_train, X_test, Y_train, Y_test = train_test_split(X_HA, Y_HA, test_size=0.2)"
   ]
  },
  {
   "cell_type": "code",
   "execution_count": 78,
   "id": "b409cba0",
   "metadata": {},
   "outputs": [
    {
     "data": {
      "text/plain": [
       "((2360, 1), (2360,))"
      ]
     },
     "execution_count": 78,
     "metadata": {},
     "output_type": "execute_result"
    }
   ],
   "source": [
    "X_train.shape, Y_train.shape"
   ]
  },
  {
   "cell_type": "code",
   "execution_count": 79,
   "id": "1048b2b9",
   "metadata": {},
   "outputs": [
    {
     "data": {
      "text/plain": [
       "((591, 1), (591,))"
      ]
     },
     "execution_count": 79,
     "metadata": {},
     "output_type": "execute_result"
    }
   ],
   "source": [
    "X_test.shape, Y_test.shape"
   ]
  },
  {
   "cell_type": "code",
   "execution_count": 82,
   "id": "e23f73da",
   "metadata": {},
   "outputs": [
    {
     "data": {
      "text/plain": [
       "-0.19031589938221538"
      ]
     },
     "execution_count": 82,
     "metadata": {},
     "output_type": "execute_result"
    }
   ],
   "source": [
    "import numpy as np\n",
    "np.random.seed(100)\n",
    "model = RandomForestRegressor(n_estimators=100)\n",
    "model.fit(X_train, Y_train)\n",
    "r2 = model.score(X_test, Y_test)\n",
    "r2"
   ]
  },
  {
   "cell_type": "code",
   "execution_count": 83,
   "id": "fce18645",
   "metadata": {},
   "outputs": [],
   "source": [
    "Y_pred = model.predict(X_test)"
   ]
  },
  {
   "cell_type": "code",
   "execution_count": 84,
   "id": "7c3568f5",
   "metadata": {},
   "outputs": [
    {
     "name": "stderr",
     "output_type": "stream",
     "text": [
      "C:\\Users\\Zizi\\anaconda3\\lib\\site-packages\\seaborn\\_decorators.py:36: FutureWarning: Pass the following variables as keyword args: x, y. From version 0.12, the only valid positional argument will be `data`, and passing other arguments without an explicit keyword will result in an error or misinterpretation.\n",
      "  warnings.warn(\n"
     ]
    },
    {
     "data": {
      "text/plain": [
       "<function matplotlib.pyplot.show(close=None, block=None)>"
      ]
     },
     "execution_count": 84,
     "metadata": {},
     "output_type": "execute_result"
    },
    {
     "data": {
      "image/png": "[encoded data removed]",
      "text/plain": [
       "<Figure size 360x360 with 1 Axes>"
      ]
     },
     "metadata": {},
     "output_type": "display_data"
    }
   ],
   "source": [
    "import seaborn as sns\n",
    "import matplotlib.pyplot as plt\n",
    "\n",
    "sns.set(color_codes=True)\n",
    "sns.set_style(\"white\")\n",
    "\n",
    "ax = sns.regplot(Y_test, Y_pred, scatter_kws={'alpha':0.4})\n",
    "ax.set_xlabel('Experimental pKi', fontsize='large', fontweight='bold')\n",
    "ax.set_ylabel('Predicted pKi', fontsize='large', fontweight='bold')\n",
    "ax.set_xlim(0, 12)\n",
    "ax.set_ylim(0, 12)\n",
    "ax.figure.set_size_inches(5, 5)\n",
    "plt.show"
   ]
  },
  {
   "cell_type": "code",
   "execution_count": 85,
   "id": "07fb2fe0",
   "metadata": {},
   "outputs": [
    {
     "data": {
      "text/plain": [
       "<Figure size 432x288 with 0 Axes>"
      ]
     },
     "metadata": {},
     "output_type": "display_data"
    }
   ],
   "source": [
    "plt.savefig('plot_HA_pKi.pdf')"
   ]
  },
  {
   "cell_type": "code",
   "execution_count": null,
   "id": "2bf3c148",
   "metadata": {},
   "outputs": [],
   "source": []
  }
 ],
 "metadata": {
  "kernelspec": {
   "display_name": "Python 3 (ipykernel)",
   "language": "python",
   "name": "python3"
  },
  "language_info": {
   "codemirror_mode": {
    "name": "ipython",
    "version": 3
   },
   "file_extension": ".py",
   "mimetype": "text/x-python",
   "name": "python",
   "nbconvert_exporter": "python",
   "pygments_lexer": "ipython3",
   "version": "3.9.7"
  }
 },
 "nbformat": 4,
 "nbformat_minor": 5
}
