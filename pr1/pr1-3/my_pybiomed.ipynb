{
 "cells": [
  {
   "cell_type": "code",
   "execution_count": 21,
   "id": "13dac9f0",
   "metadata": {},
   "outputs": [
    {
     "data": {
      "text/html": [
       "<div>\n",
       "<style scoped>\n",
       "    .dataframe tbody tr th:only-of-type {\n",
       "        vertical-align: middle;\n",
       "    }\n",
       "\n",
       "    .dataframe tbody tr th {\n",
       "        vertical-align: top;\n",
       "    }\n",
       "\n",
       "    .dataframe thead th {\n",
       "        text-align: right;\n",
       "    }\n",
       "</style>\n",
       "<table border=\"1\" class=\"dataframe\">\n",
       "  <thead>\n",
       "    <tr style=\"text-align: right;\">\n",
       "      <th></th>\n",
       "      <th>ChEMBL ID</th>\n",
       "      <th>Smiles</th>\n",
       "      <th>Canonical_Smiles</th>\n",
       "      <th>bioactivity_class</th>\n",
       "      <th>pKi</th>\n",
       "      <th>MW</th>\n",
       "      <th>LogP</th>\n",
       "      <th>NumHDonors</th>\n",
       "      <th>NumHAcceptors</th>\n",
       "    </tr>\n",
       "  </thead>\n",
       "  <tbody>\n",
       "    <tr>\n",
       "      <th>0</th>\n",
       "      <td>CHEMBL567175</td>\n",
       "      <td>Oc1ccc2c3c1O[C@@H]1[C@@]43CCN([C@H](C2)[C@]4(O...</td>\n",
       "      <td>Oc1ccc2c3c1O[C@@H]1[C@@]43CCN([C@H](C2)[C@]4(O...</td>\n",
       "      <td>active</td>\n",
       "      <td>10.000000</td>\n",
       "      <td>414.505</td>\n",
       "      <td>3.57260</td>\n",
       "      <td>3.0</td>\n",
       "      <td>4.0</td>\n",
       "    </tr>\n",
       "    <tr>\n",
       "      <th>1</th>\n",
       "      <td>CHEMBL2113666</td>\n",
       "      <td>CN1CC[C@]23c4c5cccc4O[C@H]2C(=O)CC[C@@]3(NC(=O...</td>\n",
       "      <td>O=C(N[C@]12CCC(=O)[C@H]3[C@]42CCN([C@@H]1Cc1c4...</td>\n",
       "      <td>active</td>\n",
       "      <td>10.000000</td>\n",
       "      <td>448.950</td>\n",
       "      <td>3.53030</td>\n",
       "      <td>1.0</td>\n",
       "      <td>4.0</td>\n",
       "    </tr>\n",
       "    <tr>\n",
       "      <th>2</th>\n",
       "      <td>CHEMBL1649941</td>\n",
       "      <td>CCCC[C@@H](NC(=O)[C@@H](N)Cc1c(C)cc(O)cc1C)C(=...</td>\n",
       "      <td>CCCC[C@H](C(=O)NCC(=O)N[C@H](C(=O)N1CCC(CC1)N(...</td>\n",
       "      <td>active</td>\n",
       "      <td>10.000000</td>\n",
       "      <td>775.391</td>\n",
       "      <td>4.48514</td>\n",
       "      <td>5.0</td>\n",
       "      <td>7.0</td>\n",
       "    </tr>\n",
       "    <tr>\n",
       "      <th>3</th>\n",
       "      <td>CHEMBL334715</td>\n",
       "      <td>N=C(N)NCCC[C@@H](NC(=O)c1cccc2c3c([nH]c12)[C@@...</td>\n",
       "      <td>NC(=N)NCCC[C@H](C(=O)O)NC(=O)c1cccc2c1[nH]c1c2...</td>\n",
       "      <td>active</td>\n",
       "      <td>10.000000</td>\n",
       "      <td>614.703</td>\n",
       "      <td>2.01887</td>\n",
       "      <td>8.0</td>\n",
       "      <td>7.0</td>\n",
       "    </tr>\n",
       "    <tr>\n",
       "      <th>4</th>\n",
       "      <td>CHEMBL3785854</td>\n",
       "      <td>Oc1ccc2c(c1)[C@]13CCN(CC4CC4)[C@@H](C2)[C@]1(O...</td>\n",
       "      <td>Oc1ccc2c(c1)[C@@]13CCN([C@@H](C2)[C@]3(O)Cc2c(...</td>\n",
       "      <td>active</td>\n",
       "      <td>10.000000</td>\n",
       "      <td>400.522</td>\n",
       "      <td>3.68160</td>\n",
       "      <td>3.0</td>\n",
       "      <td>3.0</td>\n",
       "    </tr>\n",
       "    <tr>\n",
       "      <th>...</th>\n",
       "      <td>...</td>\n",
       "      <td>...</td>\n",
       "      <td>...</td>\n",
       "      <td>...</td>\n",
       "      <td>...</td>\n",
       "      <td>...</td>\n",
       "      <td>...</td>\n",
       "      <td>...</td>\n",
       "      <td>...</td>\n",
       "    </tr>\n",
       "    <tr>\n",
       "      <th>2946</th>\n",
       "      <td>CHEMBL3698762</td>\n",
       "      <td>O=c1c(NC(CO)CO)nc2ccccc2n1C1CCN(C2CCCCCCC2)CC1</td>\n",
       "      <td>OCC(Nc1nc2ccccc2n(c1=O)C1CCN(CC1)C1CCCCCCC1)CO</td>\n",
       "      <td>inactive</td>\n",
       "      <td>4.064397</td>\n",
       "      <td>428.577</td>\n",
       "      <td>2.91140</td>\n",
       "      <td>3.0</td>\n",
       "      <td>7.0</td>\n",
       "    </tr>\n",
       "    <tr>\n",
       "      <th>2947</th>\n",
       "      <td>CHEMBL1076554</td>\n",
       "      <td>Cc1cccc(O)c1C(=O)C1=CCCN2CCC[C@@H]12</td>\n",
       "      <td>Cc1cccc(c1C(=O)C1=CCCN2[C@H]1CCC2)O</td>\n",
       "      <td>inactive</td>\n",
       "      <td>4.026872</td>\n",
       "      <td>257.333</td>\n",
       "      <td>2.67782</td>\n",
       "      <td>1.0</td>\n",
       "      <td>3.0</td>\n",
       "    </tr>\n",
       "    <tr>\n",
       "      <th>2948</th>\n",
       "      <td>CHEMBL3695269</td>\n",
       "      <td>NC(=O)[C@H](CO)Nc1nc2ccccc2n(C2CCN(C3CCCCCCC3)...</td>\n",
       "      <td>OC[C@@H](C(=O)N)Nc1nc2ccccc2n(c1=O)C1CCN(CC1)C...</td>\n",
       "      <td>inactive</td>\n",
       "      <td>4.017715</td>\n",
       "      <td>441.576</td>\n",
       "      <td>2.40440</td>\n",
       "      <td>3.0</td>\n",
       "      <td>7.0</td>\n",
       "    </tr>\n",
       "    <tr>\n",
       "      <th>2949</th>\n",
       "      <td>CHEMBL233535</td>\n",
       "      <td>NCc1ccccc1C1(O)CCN(CC2CCCCCC2)CC1</td>\n",
       "      <td>NCc1ccccc1C1(O)CCN(CC1)CC1CCCCCC1</td>\n",
       "      <td>inactive</td>\n",
       "      <td>4.002155</td>\n",
       "      <td>316.489</td>\n",
       "      <td>3.39910</td>\n",
       "      <td>2.0</td>\n",
       "      <td>3.0</td>\n",
       "    </tr>\n",
       "    <tr>\n",
       "      <th>2950</th>\n",
       "      <td>CHEMBL241272</td>\n",
       "      <td>O=C1NCN(c2ccccc2)C12CCN(C(c1ccccc1Cl)c1ccccc1C...</td>\n",
       "      <td>Clc1ccccc1C(c1ccccc1Cl)N1CCC2(CC1)C(=O)NCN2c1c...</td>\n",
       "      <td>inactive</td>\n",
       "      <td>3.822795</td>\n",
       "      <td>466.412</td>\n",
       "      <td>5.51130</td>\n",
       "      <td>1.0</td>\n",
       "      <td>3.0</td>\n",
       "    </tr>\n",
       "  </tbody>\n",
       "</table>\n",
       "<p>2951 rows × 9 columns</p>\n",
       "</div>"
      ],
      "text/plain": [
       "          ChEMBL ID                                             Smiles  \\\n",
       "0      CHEMBL567175  Oc1ccc2c3c1O[C@@H]1[C@@]43CCN([C@H](C2)[C@]4(O...   \n",
       "1     CHEMBL2113666  CN1CC[C@]23c4c5cccc4O[C@H]2C(=O)CC[C@@]3(NC(=O...   \n",
       "2     CHEMBL1649941  CCCC[C@@H](NC(=O)[C@@H](N)Cc1c(C)cc(O)cc1C)C(=...   \n",
       "3      CHEMBL334715  N=C(N)NCCC[C@@H](NC(=O)c1cccc2c3c([nH]c12)[C@@...   \n",
       "4     CHEMBL3785854  Oc1ccc2c(c1)[C@]13CCN(CC4CC4)[C@@H](C2)[C@]1(O...   \n",
       "...             ...                                                ...   \n",
       "2946  CHEMBL3698762     O=c1c(NC(CO)CO)nc2ccccc2n1C1CCN(C2CCCCCCC2)CC1   \n",
       "2947  CHEMBL1076554               Cc1cccc(O)c1C(=O)C1=CCCN2CCC[C@@H]12   \n",
       "2948  CHEMBL3695269  NC(=O)[C@H](CO)Nc1nc2ccccc2n(C2CCN(C3CCCCCCC3)...   \n",
       "2949   CHEMBL233535                  NCc1ccccc1C1(O)CCN(CC2CCCCCC2)CC1   \n",
       "2950   CHEMBL241272  O=C1NCN(c2ccccc2)C12CCN(C(c1ccccc1Cl)c1ccccc1C...   \n",
       "\n",
       "                                       Canonical_Smiles bioactivity_class  \\\n",
       "0     Oc1ccc2c3c1O[C@@H]1[C@@]43CCN([C@H](C2)[C@]4(O...            active   \n",
       "1     O=C(N[C@]12CCC(=O)[C@H]3[C@]42CCN([C@@H]1Cc1c4...            active   \n",
       "2     CCCC[C@H](C(=O)NCC(=O)N[C@H](C(=O)N1CCC(CC1)N(...            active   \n",
       "3     NC(=N)NCCC[C@H](C(=O)O)NC(=O)c1cccc2c1[nH]c1c2...            active   \n",
       "4     Oc1ccc2c(c1)[C@@]13CCN([C@@H](C2)[C@]3(O)Cc2c(...            active   \n",
       "...                                                 ...               ...   \n",
       "2946     OCC(Nc1nc2ccccc2n(c1=O)C1CCN(CC1)C1CCCCCCC1)CO          inactive   \n",
       "2947                Cc1cccc(c1C(=O)C1=CCCN2[C@H]1CCC2)O          inactive   \n",
       "2948  OC[C@@H](C(=O)N)Nc1nc2ccccc2n(c1=O)C1CCN(CC1)C...          inactive   \n",
       "2949                  NCc1ccccc1C1(O)CCN(CC1)CC1CCCCCC1          inactive   \n",
       "2950  Clc1ccccc1C(c1ccccc1Cl)N1CCC2(CC1)C(=O)NCN2c1c...          inactive   \n",
       "\n",
       "            pKi       MW     LogP  NumHDonors  NumHAcceptors  \n",
       "0     10.000000  414.505  3.57260         3.0            4.0  \n",
       "1     10.000000  448.950  3.53030         1.0            4.0  \n",
       "2     10.000000  775.391  4.48514         5.0            7.0  \n",
       "3     10.000000  614.703  2.01887         8.0            7.0  \n",
       "4     10.000000  400.522  3.68160         3.0            3.0  \n",
       "...         ...      ...      ...         ...            ...  \n",
       "2946   4.064397  428.577  2.91140         3.0            7.0  \n",
       "2947   4.026872  257.333  2.67782         1.0            3.0  \n",
       "2948   4.017715  441.576  2.40440         3.0            7.0  \n",
       "2949   4.002155  316.489  3.39910         2.0            3.0  \n",
       "2950   3.822795  466.412  5.51130         1.0            3.0  \n",
       "\n",
       "[2951 rows x 9 columns]"
      ]
     },
     "execution_count": 21,
     "metadata": {},
     "output_type": "execute_result"
    }
   ],
   "source": [
    "import numpy as np\n",
    "import pandas as pd\n",
    "df = pd.read_csv('data_2class_pKi_Lipinski.csv')\n",
    "df"
   ]
  },
  {
   "cell_type": "code",
   "execution_count": 24,
   "id": "43250a60",
   "metadata": {},
   "outputs": [],
   "source": [
    "selection = ['Canonical_Smiles']\n",
    "df_selection = df[selection]\n",
    "df_selection.to_csv('molecule_new.smi', sep='\\t', index=False, header=False)\n"
   ]
  },
  {
   "cell_type": "code",
   "execution_count": 73,
   "id": "b242de8f",
   "metadata": {},
   "outputs": [],
   "source": [
    "from PyBioMed.PyPretreat.PyPretreatMol import StandardizeMol\n",
    "from rdkit import Chem\n"
   ]
  },
  {
   "cell_type": "code",
   "execution_count": 74,
   "id": "ef6ac8e4",
   "metadata": {},
   "outputs": [
    {
     "name": "stdout",
     "output_type": "stream",
     "text": [
      "NCc1ccccc1C1(O)CCN(CC2CCCCCC2)CC1\n"
     ]
    }
   ],
   "source": [
    "mol = Chem.MolFromSmiles('NCc1ccccc1C1(O)CCN(CC1)CC1CCCCCC1')\n",
    "sdm = StandardizeMol()\n",
    "mol = sdm.disconnect_metals(mol)\n",
    "print (Chem.MolToSmiles(mol, isomericSmiles=True))"
   ]
  },
  {
   "cell_type": "code",
   "execution_count": 17,
   "id": "3b4b2adb",
   "metadata": {},
   "outputs": [
    {
     "name": "stdout",
     "output_type": "stream",
     "text": [
      "# of SMILES: 2952\n"
     ]
    }
   ],
   "source": [
    "sm = 'smiles.csv'\n",
    "\n",
    "with open(sm, \"r\") as ins:\n",
    "    smiles = []\n",
    "    for line in ins:\n",
    "        smiles.append(line.split('\\n')[0])\n",
    "print('# of SMILES:', len(smiles))"
   ]
  },
  {
   "cell_type": "code",
   "execution_count": 2,
   "id": "9b4843a5",
   "metadata": {},
   "outputs": [
    {
     "name": "stdout",
     "output_type": "stream",
     "text": [
      "{'Chi0': 16.123, 'Chi1': 11.21, 'mChi1': 0.448, 'Chi2': 9.75, 'Chi3': 8.217, 'Chi4': 6.628, 'Chi5': 5.519, 'Chi6': 3.617, 'Chi7': 2.422, 'Chi8': 1.726, 'Chi9': 1.196, 'Chi10': 0.789, 'Chi3c': 1.495, 'Chi4c': 0.144, 'Chi4pc': 3.389, 'Chi3ch': 0.0, 'Chi4ch': 0.0, 'Chi5ch': 0.0, 'Chi6ch': 0.156, 'knotp': 1.894, 'Chiv0': 14.344, 'Chiv1': 9.443, 'Chiv2': 7.551, 'Chiv3': 5.913, 'Chiv4': 4.439, 'Chiv5': 3.417, 'Chiv6': 2.239, 'Chiv7': 1.341, 'Chiv8': 0.914, 'Chiv9': 0.61, 'Chiv10': 0.39, 'dchi0': 1.779, 'dchi1': 1.767, 'dchi2': 2.199, 'dchi3': 2.304, 'dchi4': 2.19, 'Chiv3c': 0.931, 'Chiv4c': 0.056, 'Chiv4pc': 1.943, 'Chiv3ch': 0.0, 'Chiv4ch': 0.0, 'Chiv5ch': 0.0, 'Chiv6ch': 0.084, 'knotpv': 1.012}\n"
     ]
    }
   ],
   "source": [
    "from PyBioMed.PyMolecule import connectivity\n",
    "from rdkit import Chem\n",
    "smi = 'NCc1ccccc1C1(O)CCN(CC1)CC1CCCCCC1'\n",
    "mol = Chem.MolFromSmiles(smi)\n",
    "molecular_descriptor = connectivity.GetConnectivity(mol)\n",
    "print (molecular_descriptor)"
   ]
  },
  {
   "cell_type": "code",
   "execution_count": 16,
   "id": "36168ae5",
   "metadata": {
    "scrolled": true
   },
   "outputs": [
    {
     "data": {
      "text/html": [
       "<div>\n",
       "<style scoped>\n",
       "    .dataframe tbody tr th:only-of-type {\n",
       "        vertical-align: middle;\n",
       "    }\n",
       "\n",
       "    .dataframe tbody tr th {\n",
       "        vertical-align: top;\n",
       "    }\n",
       "\n",
       "    .dataframe thead th {\n",
       "        text-align: right;\n",
       "    }\n",
       "</style>\n",
       "<table border=\"1\" class=\"dataframe\">\n",
       "  <thead>\n",
       "    <tr style=\"text-align: right;\">\n",
       "      <th></th>\n",
       "      <th>Canonical_Smiles</th>\n",
       "    </tr>\n",
       "  </thead>\n",
       "  <tbody>\n",
       "    <tr>\n",
       "      <th>0</th>\n",
       "      <td>Oc1ccc2c3c1O[C@@H]1[C@@]43CCN([C@H](C2)[C@]4(O...</td>\n",
       "    </tr>\n",
       "    <tr>\n",
       "      <th>1</th>\n",
       "      <td>O=C(N[C@]12CCC(=O)[C@H]3[C@]42CCN([C@@H]1Cc1c4...</td>\n",
       "    </tr>\n",
       "    <tr>\n",
       "      <th>2</th>\n",
       "      <td>CCCC[C@H](C(=O)NCC(=O)N[C@H](C(=O)N1CCC(CC1)N(...</td>\n",
       "    </tr>\n",
       "    <tr>\n",
       "      <th>3</th>\n",
       "      <td>NC(=N)NCCC[C@H](C(=O)O)NC(=O)c1cccc2c1[nH]c1c2...</td>\n",
       "    </tr>\n",
       "    <tr>\n",
       "      <th>4</th>\n",
       "      <td>Oc1ccc2c(c1)[C@@]13CCN([C@@H](C2)[C@]3(O)Cc2c(...</td>\n",
       "    </tr>\n",
       "    <tr>\n",
       "      <th>...</th>\n",
       "      <td>...</td>\n",
       "    </tr>\n",
       "    <tr>\n",
       "      <th>2946</th>\n",
       "      <td>OCC(Nc1nc2ccccc2n(c1=O)C1CCN(CC1)C1CCCCCCC1)CO</td>\n",
       "    </tr>\n",
       "    <tr>\n",
       "      <th>2947</th>\n",
       "      <td>Cc1cccc(c1C(=O)C1=CCCN2[C@H]1CCC2)O</td>\n",
       "    </tr>\n",
       "    <tr>\n",
       "      <th>2948</th>\n",
       "      <td>OC[C@@H](C(=O)N)Nc1nc2ccccc2n(c1=O)C1CCN(CC1)C...</td>\n",
       "    </tr>\n",
       "    <tr>\n",
       "      <th>2949</th>\n",
       "      <td>NCc1ccccc1C1(O)CCN(CC1)CC1CCCCCC1</td>\n",
       "    </tr>\n",
       "    <tr>\n",
       "      <th>2950</th>\n",
       "      <td>Clc1ccccc1C(c1ccccc1Cl)N1CCC2(CC1)C(=O)NCN2c1c...</td>\n",
       "    </tr>\n",
       "  </tbody>\n",
       "</table>\n",
       "<p>2951 rows × 1 columns</p>\n",
       "</div>"
      ],
      "text/plain": [
       "                                       Canonical_Smiles\n",
       "0     Oc1ccc2c3c1O[C@@H]1[C@@]43CCN([C@H](C2)[C@]4(O...\n",
       "1     O=C(N[C@]12CCC(=O)[C@H]3[C@]42CCN([C@@H]1Cc1c4...\n",
       "2     CCCC[C@H](C(=O)NCC(=O)N[C@H](C(=O)N1CCC(CC1)N(...\n",
       "3     NC(=N)NCCC[C@H](C(=O)O)NC(=O)c1cccc2c1[nH]c1c2...\n",
       "4     Oc1ccc2c(c1)[C@@]13CCN([C@@H](C2)[C@]3(O)Cc2c(...\n",
       "...                                                 ...\n",
       "2946     OCC(Nc1nc2ccccc2n(c1=O)C1CCN(CC1)C1CCCCCCC1)CO\n",
       "2947                Cc1cccc(c1C(=O)C1=CCCN2[C@H]1CCC2)O\n",
       "2948  OC[C@@H](C(=O)N)Nc1nc2ccccc2n(c1=O)C1CCN(CC1)C...\n",
       "2949                  NCc1ccccc1C1(O)CCN(CC1)CC1CCCCCC1\n",
       "2950  Clc1ccccc1C(c1ccccc1Cl)N1CCC2(CC1)C(=O)NCN2c1c...\n",
       "\n",
       "[2951 rows x 1 columns]"
      ]
     },
     "execution_count": 16,
     "metadata": {},
     "output_type": "execute_result"
    }
   ],
   "source": [
    "import pandas as pd\n",
    "df_smi = pd.read_csv('smiles.csv')\n",
    "df_smi"
   ]
  },
  {
   "cell_type": "code",
   "execution_count": 28,
   "id": "cbc7e093",
   "metadata": {},
   "outputs": [],
   "source": [
    "from padelpy import padeldescriptor"
   ]
  },
  {
   "cell_type": "code",
   "execution_count": 19,
   "id": "637c9001",
   "metadata": {},
   "outputs": [
    {
     "name": "stdout",
     "output_type": "stream",
     "text": [
      "Oc1ccc2c3c1O[C@@H]1[C@@]43CCN([C@H](C2)[C@]4(O)Cc2c1[nH]c1c2cccc1)CC1CC1\tCHEMBL567175"
     ]
    },
    {
     "name": "stderr",
     "output_type": "stream",
     "text": [
      "cat: write error: No space left on device\n"
     ]
    },
    {
     "name": "stdout",
     "output_type": "stream",
     "text": [
      "\n",
      "O=C(N[C@]12CCC(=O)[C@H]3[C@]42CCN([C@@H]1Cc1c4c(O3)ccc1)C)/C=C/c1ccccc1Cl\tCHEMBL2113666\n",
      "CCCC[C@H](C(=O)NCC(=O)N[C@H](C(=O)N1CCC(CC1)N(c1ccccc1)C(=O)CC)Cc1ccc(cc1)Cl)NC(=O)[C@H](Cc1c(C)cc(cc1C)O)N\tCHEMBL1649941\n",
      "NC(=N)NCCC[C@H](C(=O)O)NC(=O)c1cccc2c1[nH]c1c2C[C@@]2(C34[C@H]1Oc1c4c(CC2N(CC3)CC2CC2)ccc1O)O\tCHEMBL334715\n",
      "Oc1ccc2c(c1)[C@@]13CCN([C@@H](C2)[C@]3(O)Cc2c(C1)[nH]c1c2cccc1)CC1CC1\tCHEMBL3785854\n"
     ]
    }
   ],
   "source": [
    "! cat molecule.smi | head -5"
   ]
  },
  {
   "cell_type": "code",
   "execution_count": 25,
   "id": "ea3434c2",
   "metadata": {},
   "outputs": [],
   "source": [
    "from padelpy import padeldescriptor\n",
    "import pandas as pd\n",
    "from padelpy import from_sdf\n",
    "padeldescriptor(convert3d=True, mol_dir='molecule.smi', d_file='descriptors_autocorrelation.csv')"
   ]
  },
  {
   "cell_type": "code",
   "execution_count": null,
   "id": "c6211b13",
   "metadata": {},
   "outputs": [],
   "source": []
  }
 ],
 "metadata": {
  "kernelspec": {
   "display_name": "Python 3 (ipykernel)",
   "language": "python",
   "name": "python3"
  },
  "language_info": {
   "codemirror_mode": {
    "name": "ipython",
    "version": 3
   },
   "file_extension": ".py",
   "mimetype": "text/x-python",
   "name": "python",
   "nbconvert_exporter": "python",
   "pygments_lexer": "ipython3",
   "version": "3.9.7"
  }
 },
 "nbformat": 4,
 "nbformat_minor": 5
}
